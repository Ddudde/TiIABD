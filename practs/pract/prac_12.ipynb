{
 "cells": [
  {
   "cell_type": "code",
   "execution_count": 298,
   "metadata": {},
   "outputs": [],
   "source": [
    "import pandas as pd\n",
    "import numpy as np\n",
    "import matplotlib.pyplot as plt\n",
    "from apriori_python import apriori \n",
    "from apyori import apriori as apri\n",
    "from efficient_apriori import apriori as eff_apr\n",
    "from fpgrowth_py import fpgrowth\n",
    "import time\n"
   ]
  },
  {
   "cell_type": "markdown",
   "metadata": {},
   "source": [
    "Загрузить данные Market_Basket_Optimisation.csv."
   ]
  },
  {
   "cell_type": "code",
   "execution_count": 299,
   "metadata": {},
   "outputs": [
    {
     "data": {
      "text/html": [
       "<div>\n",
       "<style scoped>\n",
       "    .dataframe tbody tr th:only-of-type {\n",
       "        vertical-align: middle;\n",
       "    }\n",
       "\n",
       "    .dataframe tbody tr th {\n",
       "        vertical-align: top;\n",
       "    }\n",
       "\n",
       "    .dataframe thead th {\n",
       "        text-align: right;\n",
       "    }\n",
       "</style>\n",
       "<table border=\"1\" class=\"dataframe\">\n",
       "  <thead>\n",
       "    <tr style=\"text-align: right;\">\n",
       "      <th></th>\n",
       "      <th>shrimp</th>\n",
       "      <th>almonds</th>\n",
       "      <th>avocado</th>\n",
       "      <th>vegetables mix</th>\n",
       "      <th>green grapes</th>\n",
       "      <th>whole weat flour</th>\n",
       "      <th>yams</th>\n",
       "      <th>cottage cheese</th>\n",
       "      <th>energy drink</th>\n",
       "      <th>tomato juice</th>\n",
       "      <th>low fat yogurt</th>\n",
       "      <th>green tea</th>\n",
       "      <th>honey</th>\n",
       "      <th>salad</th>\n",
       "      <th>mineral water</th>\n",
       "      <th>salmon</th>\n",
       "      <th>antioxydant juice</th>\n",
       "      <th>frozen smoothie</th>\n",
       "      <th>spinach</th>\n",
       "      <th>olive oil</th>\n",
       "    </tr>\n",
       "  </thead>\n",
       "  <tbody>\n",
       "    <tr>\n",
       "      <th>0</th>\n",
       "      <td>burgers</td>\n",
       "      <td>meatballs</td>\n",
       "      <td>eggs</td>\n",
       "      <td>NaN</td>\n",
       "      <td>NaN</td>\n",
       "      <td>NaN</td>\n",
       "      <td>NaN</td>\n",
       "      <td>NaN</td>\n",
       "      <td>NaN</td>\n",
       "      <td>NaN</td>\n",
       "      <td>NaN</td>\n",
       "      <td>NaN</td>\n",
       "      <td>NaN</td>\n",
       "      <td>NaN</td>\n",
       "      <td>NaN</td>\n",
       "      <td>NaN</td>\n",
       "      <td>NaN</td>\n",
       "      <td>NaN</td>\n",
       "      <td>NaN</td>\n",
       "      <td>NaN</td>\n",
       "    </tr>\n",
       "    <tr>\n",
       "      <th>1</th>\n",
       "      <td>chutney</td>\n",
       "      <td>NaN</td>\n",
       "      <td>NaN</td>\n",
       "      <td>NaN</td>\n",
       "      <td>NaN</td>\n",
       "      <td>NaN</td>\n",
       "      <td>NaN</td>\n",
       "      <td>NaN</td>\n",
       "      <td>NaN</td>\n",
       "      <td>NaN</td>\n",
       "      <td>NaN</td>\n",
       "      <td>NaN</td>\n",
       "      <td>NaN</td>\n",
       "      <td>NaN</td>\n",
       "      <td>NaN</td>\n",
       "      <td>NaN</td>\n",
       "      <td>NaN</td>\n",
       "      <td>NaN</td>\n",
       "      <td>NaN</td>\n",
       "      <td>NaN</td>\n",
       "    </tr>\n",
       "    <tr>\n",
       "      <th>2</th>\n",
       "      <td>turkey</td>\n",
       "      <td>avocado</td>\n",
       "      <td>NaN</td>\n",
       "      <td>NaN</td>\n",
       "      <td>NaN</td>\n",
       "      <td>NaN</td>\n",
       "      <td>NaN</td>\n",
       "      <td>NaN</td>\n",
       "      <td>NaN</td>\n",
       "      <td>NaN</td>\n",
       "      <td>NaN</td>\n",
       "      <td>NaN</td>\n",
       "      <td>NaN</td>\n",
       "      <td>NaN</td>\n",
       "      <td>NaN</td>\n",
       "      <td>NaN</td>\n",
       "      <td>NaN</td>\n",
       "      <td>NaN</td>\n",
       "      <td>NaN</td>\n",
       "      <td>NaN</td>\n",
       "    </tr>\n",
       "    <tr>\n",
       "      <th>3</th>\n",
       "      <td>mineral water</td>\n",
       "      <td>milk</td>\n",
       "      <td>energy bar</td>\n",
       "      <td>whole wheat rice</td>\n",
       "      <td>green tea</td>\n",
       "      <td>NaN</td>\n",
       "      <td>NaN</td>\n",
       "      <td>NaN</td>\n",
       "      <td>NaN</td>\n",
       "      <td>NaN</td>\n",
       "      <td>NaN</td>\n",
       "      <td>NaN</td>\n",
       "      <td>NaN</td>\n",
       "      <td>NaN</td>\n",
       "      <td>NaN</td>\n",
       "      <td>NaN</td>\n",
       "      <td>NaN</td>\n",
       "      <td>NaN</td>\n",
       "      <td>NaN</td>\n",
       "      <td>NaN</td>\n",
       "    </tr>\n",
       "    <tr>\n",
       "      <th>4</th>\n",
       "      <td>low fat yogurt</td>\n",
       "      <td>NaN</td>\n",
       "      <td>NaN</td>\n",
       "      <td>NaN</td>\n",
       "      <td>NaN</td>\n",
       "      <td>NaN</td>\n",
       "      <td>NaN</td>\n",
       "      <td>NaN</td>\n",
       "      <td>NaN</td>\n",
       "      <td>NaN</td>\n",
       "      <td>NaN</td>\n",
       "      <td>NaN</td>\n",
       "      <td>NaN</td>\n",
       "      <td>NaN</td>\n",
       "      <td>NaN</td>\n",
       "      <td>NaN</td>\n",
       "      <td>NaN</td>\n",
       "      <td>NaN</td>\n",
       "      <td>NaN</td>\n",
       "      <td>NaN</td>\n",
       "    </tr>\n",
       "    <tr>\n",
       "      <th>...</th>\n",
       "      <td>...</td>\n",
       "      <td>...</td>\n",
       "      <td>...</td>\n",
       "      <td>...</td>\n",
       "      <td>...</td>\n",
       "      <td>...</td>\n",
       "      <td>...</td>\n",
       "      <td>...</td>\n",
       "      <td>...</td>\n",
       "      <td>...</td>\n",
       "      <td>...</td>\n",
       "      <td>...</td>\n",
       "      <td>...</td>\n",
       "      <td>...</td>\n",
       "      <td>...</td>\n",
       "      <td>...</td>\n",
       "      <td>...</td>\n",
       "      <td>...</td>\n",
       "      <td>...</td>\n",
       "      <td>...</td>\n",
       "    </tr>\n",
       "    <tr>\n",
       "      <th>7495</th>\n",
       "      <td>butter</td>\n",
       "      <td>light mayo</td>\n",
       "      <td>fresh bread</td>\n",
       "      <td>NaN</td>\n",
       "      <td>NaN</td>\n",
       "      <td>NaN</td>\n",
       "      <td>NaN</td>\n",
       "      <td>NaN</td>\n",
       "      <td>NaN</td>\n",
       "      <td>NaN</td>\n",
       "      <td>NaN</td>\n",
       "      <td>NaN</td>\n",
       "      <td>NaN</td>\n",
       "      <td>NaN</td>\n",
       "      <td>NaN</td>\n",
       "      <td>NaN</td>\n",
       "      <td>NaN</td>\n",
       "      <td>NaN</td>\n",
       "      <td>NaN</td>\n",
       "      <td>NaN</td>\n",
       "    </tr>\n",
       "    <tr>\n",
       "      <th>7496</th>\n",
       "      <td>burgers</td>\n",
       "      <td>frozen vegetables</td>\n",
       "      <td>eggs</td>\n",
       "      <td>french fries</td>\n",
       "      <td>magazines</td>\n",
       "      <td>green tea</td>\n",
       "      <td>NaN</td>\n",
       "      <td>NaN</td>\n",
       "      <td>NaN</td>\n",
       "      <td>NaN</td>\n",
       "      <td>NaN</td>\n",
       "      <td>NaN</td>\n",
       "      <td>NaN</td>\n",
       "      <td>NaN</td>\n",
       "      <td>NaN</td>\n",
       "      <td>NaN</td>\n",
       "      <td>NaN</td>\n",
       "      <td>NaN</td>\n",
       "      <td>NaN</td>\n",
       "      <td>NaN</td>\n",
       "    </tr>\n",
       "    <tr>\n",
       "      <th>7497</th>\n",
       "      <td>chicken</td>\n",
       "      <td>NaN</td>\n",
       "      <td>NaN</td>\n",
       "      <td>NaN</td>\n",
       "      <td>NaN</td>\n",
       "      <td>NaN</td>\n",
       "      <td>NaN</td>\n",
       "      <td>NaN</td>\n",
       "      <td>NaN</td>\n",
       "      <td>NaN</td>\n",
       "      <td>NaN</td>\n",
       "      <td>NaN</td>\n",
       "      <td>NaN</td>\n",
       "      <td>NaN</td>\n",
       "      <td>NaN</td>\n",
       "      <td>NaN</td>\n",
       "      <td>NaN</td>\n",
       "      <td>NaN</td>\n",
       "      <td>NaN</td>\n",
       "      <td>NaN</td>\n",
       "    </tr>\n",
       "    <tr>\n",
       "      <th>7498</th>\n",
       "      <td>escalope</td>\n",
       "      <td>green tea</td>\n",
       "      <td>NaN</td>\n",
       "      <td>NaN</td>\n",
       "      <td>NaN</td>\n",
       "      <td>NaN</td>\n",
       "      <td>NaN</td>\n",
       "      <td>NaN</td>\n",
       "      <td>NaN</td>\n",
       "      <td>NaN</td>\n",
       "      <td>NaN</td>\n",
       "      <td>NaN</td>\n",
       "      <td>NaN</td>\n",
       "      <td>NaN</td>\n",
       "      <td>NaN</td>\n",
       "      <td>NaN</td>\n",
       "      <td>NaN</td>\n",
       "      <td>NaN</td>\n",
       "      <td>NaN</td>\n",
       "      <td>NaN</td>\n",
       "    </tr>\n",
       "    <tr>\n",
       "      <th>7499</th>\n",
       "      <td>eggs</td>\n",
       "      <td>frozen smoothie</td>\n",
       "      <td>yogurt cake</td>\n",
       "      <td>low fat yogurt</td>\n",
       "      <td>NaN</td>\n",
       "      <td>NaN</td>\n",
       "      <td>NaN</td>\n",
       "      <td>NaN</td>\n",
       "      <td>NaN</td>\n",
       "      <td>NaN</td>\n",
       "      <td>NaN</td>\n",
       "      <td>NaN</td>\n",
       "      <td>NaN</td>\n",
       "      <td>NaN</td>\n",
       "      <td>NaN</td>\n",
       "      <td>NaN</td>\n",
       "      <td>NaN</td>\n",
       "      <td>NaN</td>\n",
       "      <td>NaN</td>\n",
       "      <td>NaN</td>\n",
       "    </tr>\n",
       "  </tbody>\n",
       "</table>\n",
       "<p>7500 rows × 20 columns</p>\n",
       "</div>"
      ],
      "text/plain": [
       "              shrimp            almonds      avocado    vegetables mix  \\\n",
       "0            burgers          meatballs         eggs               NaN   \n",
       "1            chutney                NaN          NaN               NaN   \n",
       "2             turkey            avocado          NaN               NaN   \n",
       "3      mineral water               milk   energy bar  whole wheat rice   \n",
       "4     low fat yogurt                NaN          NaN               NaN   \n",
       "...              ...                ...          ...               ...   \n",
       "7495          butter         light mayo  fresh bread               NaN   \n",
       "7496         burgers  frozen vegetables         eggs      french fries   \n",
       "7497         chicken                NaN          NaN               NaN   \n",
       "7498        escalope          green tea          NaN               NaN   \n",
       "7499            eggs    frozen smoothie  yogurt cake    low fat yogurt   \n",
       "\n",
       "     green grapes whole weat flour yams cottage cheese energy drink  \\\n",
       "0             NaN              NaN  NaN            NaN          NaN   \n",
       "1             NaN              NaN  NaN            NaN          NaN   \n",
       "2             NaN              NaN  NaN            NaN          NaN   \n",
       "3       green tea              NaN  NaN            NaN          NaN   \n",
       "4             NaN              NaN  NaN            NaN          NaN   \n",
       "...           ...              ...  ...            ...          ...   \n",
       "7495          NaN              NaN  NaN            NaN          NaN   \n",
       "7496    magazines        green tea  NaN            NaN          NaN   \n",
       "7497          NaN              NaN  NaN            NaN          NaN   \n",
       "7498          NaN              NaN  NaN            NaN          NaN   \n",
       "7499          NaN              NaN  NaN            NaN          NaN   \n",
       "\n",
       "     tomato juice low fat yogurt green tea honey salad mineral water salmon  \\\n",
       "0             NaN            NaN       NaN   NaN   NaN           NaN    NaN   \n",
       "1             NaN            NaN       NaN   NaN   NaN           NaN    NaN   \n",
       "2             NaN            NaN       NaN   NaN   NaN           NaN    NaN   \n",
       "3             NaN            NaN       NaN   NaN   NaN           NaN    NaN   \n",
       "4             NaN            NaN       NaN   NaN   NaN           NaN    NaN   \n",
       "...           ...            ...       ...   ...   ...           ...    ...   \n",
       "7495          NaN            NaN       NaN   NaN   NaN           NaN    NaN   \n",
       "7496          NaN            NaN       NaN   NaN   NaN           NaN    NaN   \n",
       "7497          NaN            NaN       NaN   NaN   NaN           NaN    NaN   \n",
       "7498          NaN            NaN       NaN   NaN   NaN           NaN    NaN   \n",
       "7499          NaN            NaN       NaN   NaN   NaN           NaN    NaN   \n",
       "\n",
       "     antioxydant juice frozen smoothie spinach  olive oil  \n",
       "0                  NaN             NaN     NaN        NaN  \n",
       "1                  NaN             NaN     NaN        NaN  \n",
       "2                  NaN             NaN     NaN        NaN  \n",
       "3                  NaN             NaN     NaN        NaN  \n",
       "4                  NaN             NaN     NaN        NaN  \n",
       "...                ...             ...     ...        ...  \n",
       "7495               NaN             NaN     NaN        NaN  \n",
       "7496               NaN             NaN     NaN        NaN  \n",
       "7497               NaN             NaN     NaN        NaN  \n",
       "7498               NaN             NaN     NaN        NaN  \n",
       "7499               NaN             NaN     NaN        NaN  \n",
       "\n",
       "[7500 rows x 20 columns]"
      ]
     },
     "execution_count": 299,
     "metadata": {},
     "output_type": "execute_result"
    }
   ],
   "source": [
    "data = pd.read_csv('Market_Basket_Optimisation.csv')\n",
    "data"
   ]
  },
  {
   "cell_type": "markdown",
   "metadata": {},
   "source": [
    "Визуализировать данные (отразить на гистограммах относительную и фактическую частоту встречаемости для 20 наиболее популярных товаров). \n"
   ]
  },
  {
   "cell_type": "code",
   "execution_count": 300,
   "metadata": {},
   "outputs": [
    {
     "name": "stdout",
     "output_type": "stream",
     "text": [
      "<class 'pandas.core.frame.DataFrame'>\n",
      "RangeIndex: 7500 entries, 0 to 7499\n",
      "Data columns (total 20 columns):\n",
      " #   Column             Non-Null Count  Dtype  \n",
      "---  ------             --------------  -----  \n",
      " 0   shrimp             7500 non-null   object \n",
      " 1   almonds            5746 non-null   object \n",
      " 2   avocado            4388 non-null   object \n",
      " 3   vegetables mix     3344 non-null   object \n",
      " 4   green grapes       2528 non-null   object \n",
      " 5   whole weat flour   1863 non-null   object \n",
      " 6   yams               1368 non-null   object \n",
      " 7   cottage cheese     980 non-null    object \n",
      " 8   energy drink       653 non-null    object \n",
      " 9   tomato juice       394 non-null    object \n",
      " 10  low fat yogurt     255 non-null    object \n",
      " 11  green tea          153 non-null    object \n",
      " 12  honey              86 non-null     object \n",
      " 13  salad              46 non-null     object \n",
      " 14  mineral water      24 non-null     object \n",
      " 15  salmon             7 non-null      object \n",
      " 16  antioxydant juice  3 non-null      object \n",
      " 17  frozen smoothie    3 non-null      object \n",
      " 18  spinach            2 non-null      object \n",
      " 19  olive oil          0 non-null      float64\n",
      "dtypes: float64(1), object(19)\n",
      "memory usage: 1.1+ MB\n"
     ]
    }
   ],
   "source": [
    "data.info()"
   ]
  },
  {
   "cell_type": "code",
   "execution_count": 301,
   "metadata": {},
   "outputs": [
    {
     "data": {
      "text/plain": [
       "<AxesSubplot:>"
      ]
     },
     "execution_count": 301,
     "metadata": {},
     "output_type": "execute_result"
    },
    {
     "data": {
      "image/png": "[encoded data removed]",
      "text/plain": [
       "<Figure size 640x480 with 1 Axes>"
      ]
     },
     "metadata": {},
     "output_type": "display_data"
    }
   ],
   "source": [
    "data.stack().value_counts(normalize=True)[:20].plot(kind='bar') # относительная частота\n"
   ]
  },
  {
   "cell_type": "code",
   "execution_count": 302,
   "metadata": {},
   "outputs": [
    {
     "data": {
      "text/plain": [
       "<AxesSubplot:>"
      ]
     },
     "execution_count": 302,
     "metadata": {},
     "output_type": "execute_result"
    },
    {
     "data": {
      "image/png": "[encoded data removed]",
      "text/plain": [
       "<Figure size 640x480 with 1 Axes>"
      ]
     },
     "metadata": {},
     "output_type": "display_data"
    }
   ],
   "source": [
    "data.stack().value_counts().apply(lambda item: item / data.shape[0])[:20].plot(kind='bar') # фактическая частота"
   ]
  },
  {
   "cell_type": "markdown",
   "metadata": {},
   "source": [
    "Применить алгоритм Apriori, используя 3 разные библиотеки (apriori_python, apyori, efficient_apriori)."
   ]
  },
  {
   "cell_type": "code",
   "execution_count": 303,
   "metadata": {},
   "outputs": [],
   "source": [
    "'''\n",
    "В большинстве библиотек, которые реализуют алгоритмы поиска ассоциативных правил в качестве входных значений необходимо подавать список транзакций, \n",
    "то есть список списков, поэтому нам необходимо преобразовать наш датасет в такой формат. \n",
    "При этом необходимо контролировать пустые значения в данных (NaN), их добавлять в список не надо.\n",
    "'''\n",
    "transactions = []\n",
    "for i in range(0, data.shape[0]):\n",
    "    row = data.iloc[i].dropna().tolist()\n",
    "    transactions.append(row)"
   ]
  },
  {
   "cell_type": "code",
   "execution_count": 304,
   "metadata": {},
   "outputs": [
    {
     "name": "stdout",
     "output_type": "stream",
     "text": [
      "burgers\n",
      "['burgers', 'meatballs', 'eggs']\n"
     ]
    }
   ],
   "source": [
    "'''Также выведем первый элемент и первый список, и сравним с нашим датасетом, чтобы удостоверится, что преобразование прошло удачно'''\n",
    "print(f'{transactions[0][0]}\\n{transactions[0]}')"
   ]
  },
  {
   "cell_type": "code",
   "execution_count": 305,
   "metadata": {},
   "outputs": [
    {
     "data": {
      "text/plain": [
       "[[{'tomatoes'}, {'spaghetti'}, 0.3060428849902534],\n",
       " [{'low fat yogurt'}, {'mineral water'}, 0.31239092495637],\n",
       " [{'frozen smoothie'}, {'mineral water'}, 0.31856540084388185],\n",
       " [{'chocolate'}, {'mineral water'}, 0.3213995117982099],\n",
       " [{'shrimp'}, {'mineral water'}, 0.32897196261682243],\n",
       " [{'burgers'}, {'eggs'}, 0.3302752293577982],\n",
       " [{'cake'}, {'mineral water'}, 0.33881578947368424],\n",
       " [{'spaghetti'}, {'mineral water'}, 0.3430321592649311],\n",
       " [{'whole wheat rice'}, {'mineral water'}, 0.3439635535307517],\n",
       " [{'olive oil'}, {'spaghetti'}, 0.3488843813387424],\n",
       " [{'pancakes'}, {'mineral water'}, 0.3548387096774194],\n",
       " [{'tomatoes'}, {'mineral water'}, 0.3567251461988304],\n",
       " [{'milk'}, {'mineral water'}, 0.37037037037037035],\n",
       " [{'frozen vegetables'}, {'mineral water'}, 0.3748251748251748],\n",
       " [{'chicken'}, {'mineral water'}, 0.38],\n",
       " [{'cooking oil'}, {'mineral water'}, 0.39425587467362927],\n",
       " [{'ground beef'}, {'spaghetti'}, 0.3989145183175034],\n",
       " [{'ground beef'}, {'mineral water'}, 0.41655359565807326],\n",
       " [{'olive oil'}, {'mineral water'}, 0.4178498985801217],\n",
       " [{'soup'}, {'mineral water'}, 0.45646437994722955]]"
      ]
     },
     "execution_count": 305,
     "metadata": {},
     "output_type": "execute_result"
    }
   ],
   "source": [
    "# apriori_python\n",
    "'''\n",
    "minSup – это минимальная поддержка. \n",
    "Значение поддержки меняется от 0 (когда условие и следствие не встречаются вместе ни в одной транзакции) \n",
    "до 1 (когда условие и следствие во всех транзакциях появляются совместно). \n",
    "\n",
    "minConf – минимальная достоверность. \n",
    "Это показатель, характеризующий уверенность в том, что ассоциация A → B является ассоциативным правилом. \n",
    "То есть предположение о том, что появление события A влечёт за собой появление события B, является достаточно достоверным.\n",
    "'''\n",
    "t = []\n",
    "start = time.perf_counter()\n",
    "\n",
    "t1, rules = apriori(transactions, minSup=0.02, minConf= 0.3)\n",
    "time1=(time.perf_counter()-start)\n",
    "t.append(time1)\n",
    "rules"
   ]
  },
  {
   "cell_type": "code",
   "execution_count": 306,
   "metadata": {},
   "outputs": [
    {
     "name": "stdout",
     "output_type": "stream",
     "text": [
      "frozenset({'burgers'}) frozenset({'eggs'})\n",
      "Support: 0.0288; Confidence: 0.3302752293577982, Lift: 1.837584733073803;\n",
      "\n",
      "frozenset({'cake'}) frozenset({'mineral water'})\n",
      "Support: 0.027466666666666667; Confidence: 0.33881578947368424, Lift: 1.422002474008188;\n",
      "\n",
      "frozenset({'chicken'}) frozenset({'mineral water'})\n",
      "Support: 0.0228; Confidence: 0.38, Lift: 1.594851706771125;\n",
      "\n",
      "frozenset({'chocolate'}) frozenset({'mineral water'})\n",
      "Support: 0.05266666666666667; Confidence: 0.32139951179820997, Lift: 1.3489067367020564;\n",
      "\n",
      "frozenset({'cooking oil'}) frozenset({'mineral water'})\n",
      "Support: 0.020133333333333333; Confidence: 0.3942558746736292, Lift: 1.6546833016520532;\n",
      "\n",
      "frozenset({'frozen smoothie'}) frozenset({'mineral water'})\n",
      "Support: 0.020133333333333333; Confidence: 0.3185654008438818, Lift: 1.3370120348791905;\n",
      "\n",
      "frozenset({'frozen vegetables'}) frozenset({'mineral water'})\n",
      "Support: 0.03573333333333333; Confidence: 0.3748251748251748, Lift: 1.5731330784492508;\n",
      "\n",
      "frozenset({'ground beef'}) frozenset({'mineral water'})\n",
      "Support: 0.040933333333333335; Confidence: 0.41655359565807326, Lift: 1.7482663499919135;\n",
      "\n",
      "frozenset({'ground beef'}) frozenset({'spaghetti'})\n",
      "Support: 0.0392; Confidence: 0.39891451831750335, Lift: 2.2908567284695827;\n",
      "\n",
      "frozenset({'low fat yogurt'}) frozenset({'mineral water'})\n",
      "Support: 0.023866666666666668; Confidence: 0.31239092495637, Lift: 1.3110978943328344;\n",
      "\n",
      "frozenset({'milk'}) frozenset({'mineral water'})\n",
      "Support: 0.048; Confidence: 0.3703703703703704, Lift: 1.5544363613753656;\n",
      "\n",
      "frozenset({'olive oil'}) frozenset({'mineral water'})\n",
      "Support: 0.027466666666666667; Confidence: 0.41784989858012167, Lift: 1.7537069050648644;\n",
      "\n",
      "frozenset({'pancakes'}) frozenset({'mineral water'})\n",
      "Support: 0.03373333333333333; Confidence: 0.3548387096774194, Lift: 1.489250320414463;\n",
      "\n",
      "frozenset({'shrimp'}) frozenset({'mineral water'})\n",
      "Support: 0.023466666666666667; Confidence: 0.32897196261682243, Lift: 1.3806881475244368;\n",
      "\n",
      "frozenset({'soup'}) frozenset({'mineral water'})\n",
      "Support: 0.023066666666666666; Confidence: 0.45646437994722955, Lift: 1.9157710406291113;\n",
      "\n",
      "frozenset({'spaghetti'}) frozenset({'mineral water'})\n",
      "Support: 0.05973333333333333; Confidence: 0.3430321592649311, Lift: 1.4396984860027886;\n",
      "\n",
      "frozenset({'tomatoes'}) frozenset({'mineral water'})\n",
      "Support: 0.0244; Confidence: 0.35672514619883045, Lift: 1.4971676533246943;\n",
      "\n",
      "frozenset({'whole wheat rice'}) frozenset({'mineral water'})\n",
      "Support: 0.020133333333333333; Confidence: 0.3439635535307517, Lift: 1.4436075274094224;\n",
      "\n",
      "frozenset({'olive oil'}) frozenset({'spaghetti'})\n",
      "Support: 0.022933333333333333; Confidence: 0.3488843813387424, Lift: 2.0035473660341254;\n",
      "\n",
      "frozenset({'tomatoes'}) frozenset({'spaghetti'})\n",
      "Support: 0.020933333333333335; Confidence: 0.30604288499025345, Lift: 1.757520396192114;\n",
      "\n"
     ]
    }
   ],
   "source": [
    "# apyori\n",
    "'''\n",
    "Здесь принимаются те же аргументы, что и в прошлой библиотеке, \n",
    "но необходимо указать минимальный лифт чуть больше 1, чтобы исключить вывод независимых правил\n",
    "'''\n",
    "start = time.perf_counter()\n",
    "rules = apri(transactions=transactions,\n",
    "             min_support=0.02,\n",
    "             min_confidence=0.3,\n",
    "             min_lift=1.0001)\n",
    "results = list(rules)\n",
    "time1 = (time.perf_counter() - start)\n",
    "t.append(time1)\n",
    "for result in results:\n",
    "    for subset in result[2]:\n",
    "        print(subset[0], subset[1])\n",
    "        print('Support: {0}; Confidence: {1}, Lift: {2};'.format(\n",
    "            result[1], subset[2], subset[3]))\n",
    "        print()"
   ]
  },
  {
   "cell_type": "code",
   "execution_count": 307,
   "metadata": {},
   "outputs": [
    {
     "name": "stdout",
     "output_type": "stream",
     "text": [
      "{burgers} -> {eggs} (conf: 0.330, supp: 0.029, lift: 1.838, conv: 1.225)\n",
      "{cake} -> {mineral water} (conf: 0.339, supp: 0.027, lift: 1.422, conv: 1.152)\n",
      "{chicken} -> {mineral water} (conf: 0.380, supp: 0.023, lift: 1.595, conv: 1.229)\n",
      "{chocolate} -> {mineral water} (conf: 0.321, supp: 0.053, lift: 1.349, conv: 1.123)\n",
      "{cooking oil} -> {mineral water} (conf: 0.394, supp: 0.020, lift: 1.655, conv: 1.258)\n",
      "{frozen smoothie} -> {mineral water} (conf: 0.319, supp: 0.020, lift: 1.337, conv: 1.118)\n",
      "{frozen vegetables} -> {mineral water} (conf: 0.375, supp: 0.036, lift: 1.573, conv: 1.218)\n",
      "{ground beef} -> {mineral water} (conf: 0.417, supp: 0.041, lift: 1.748, conv: 1.306)\n",
      "{ground beef} -> {spaghetti} (conf: 0.399, supp: 0.039, lift: 2.291, conv: 1.374)\n",
      "{low fat yogurt} -> {mineral water} (conf: 0.312, supp: 0.024, lift: 1.311, conv: 1.108)\n",
      "{milk} -> {mineral water} (conf: 0.370, supp: 0.048, lift: 1.554, conv: 1.210)\n",
      "{olive oil} -> {mineral water} (conf: 0.418, supp: 0.027, lift: 1.754, conv: 1.308)\n",
      "{pancakes} -> {mineral water} (conf: 0.355, supp: 0.034, lift: 1.489, conv: 1.181)\n",
      "{shrimp} -> {mineral water} (conf: 0.329, supp: 0.023, lift: 1.381, conv: 1.135)\n",
      "{soup} -> {mineral water} (conf: 0.456, supp: 0.023, lift: 1.916, conv: 1.401)\n",
      "{spaghetti} -> {mineral water} (conf: 0.343, supp: 0.060, lift: 1.440, conv: 1.159)\n",
      "{tomatoes} -> {mineral water} (conf: 0.357, supp: 0.024, lift: 1.497, conv: 1.184)\n",
      "{whole wheat rice} -> {mineral water} (conf: 0.344, supp: 0.020, lift: 1.444, conv: 1.161)\n",
      "{olive oil} -> {spaghetti} (conf: 0.349, supp: 0.023, lift: 2.004, conv: 1.268)\n",
      "{tomatoes} -> {spaghetti} (conf: 0.306, supp: 0.021, lift: 1.758, conv: 1.190)\n"
     ]
    }
   ],
   "source": [
    "# eff_apriori\n",
    "start = time.perf_counter()\n",
    "\n",
    "itemsets, rules = eff_apr(transactions, min_support=0.02, min_confidence=0.3)\n",
    "time1 = (time.perf_counter() - start)\n",
    "t.append(time1)\n",
    "for i in range(0, len(rules)):\n",
    "    print(rules[i])"
   ]
  },
  {
   "cell_type": "code",
   "execution_count": 308,
   "metadata": {},
   "outputs": [
    {
     "name": "stdout",
     "output_type": "stream",
     "text": [
      "[{'soup'}, {'mineral water'}, 0.45646437994722955]\n",
      "[{'cooking oil'}, {'mineral water'}, 0.39425587467362927]\n",
      "[{'whole wheat rice'}, {'mineral water'}, 0.3439635535307517]\n",
      "[{'chicken'}, {'mineral water'}, 0.38]\n",
      "[{'frozen smoothie'}, {'mineral water'}, 0.31856540084388185]\n",
      "[{'olive oil'}, {'spaghetti'}, 0.3488843813387424]\n",
      "[{'olive oil'}, {'mineral water'}, 0.4178498985801217]\n",
      "[{'tomatoes'}, {'spaghetti'}, 0.3060428849902534]\n",
      "[{'tomatoes'}, {'mineral water'}, 0.3567251461988304]\n",
      "[{'shrimp'}, {'mineral water'}, 0.32897196261682243]\n",
      "[{'low fat yogurt'}, {'mineral water'}, 0.31239092495637]\n",
      "[{'cake'}, {'mineral water'}, 0.33881578947368424]\n",
      "[{'burgers'}, {'eggs'}, 0.3302752293577982]\n",
      "[{'pancakes'}, {'mineral water'}, 0.3548387096774194]\n",
      "[{'frozen vegetables'}, {'mineral water'}, 0.3748251748251748]\n",
      "[{'ground beef'}, {'spaghetti'}, 0.3989145183175034]\n",
      "[{'ground beef'}, {'mineral water'}, 0.41655359565807326]\n",
      "[{'milk'}, {'mineral water'}, 0.37037037037037035]\n",
      "[{'chocolate'}, {'mineral water'}, 0.3213995117982099]\n",
      "[{'spaghetti'}, {'mineral water'}, 0.3430321592649311]\n"
     ]
    }
   ],
   "source": [
    "# fpgrowth_py\n",
    "start = time.perf_counter()\n",
    "itemsets, rules = fpgrowth(transactions, minSupRatio=0.02, minConf=0.3)\n",
    "time1 = (time.perf_counter() - start)\n",
    "t.append(time1)\n",
    "for i in range(0, len(rules)):\n",
    "    print(rules[i])"
   ]
  },
  {
   "cell_type": "markdown",
   "metadata": {},
   "source": [
    "Сравнить время выполнения всех алгоритмов и построить гистограмму."
   ]
  },
  {
   "cell_type": "code",
   "execution_count": 309,
   "metadata": {},
   "outputs": [
    {
     "name": "stdout",
     "output_type": "stream",
     "text": [
      "Время выполнения apriori:  3.169203800003743 \n",
      "\n",
      "Время выполнения apriori 2:  0.03099939998355694 \n",
      "\n",
      "Время выполнения efficient_apriori:  0.036479400005191565 \n",
      "\n",
      "Время выполнения fpgrowth:  0.6796633999911137 \n",
      "\n"
     ]
    },
    {
     "data": {
      "image/png": "[encoded data removed]",
      "text/plain": [
       "<Figure size 640x480 with 1 Axes>"
      ]
     },
     "metadata": {},
     "output_type": "display_data"
    }
   ],
   "source": [
    "print('Время выполнения apriori: ', t[0], '\\n')\n",
    "print('Время выполнения apriori 2: ', t[1], '\\n')\n",
    "print('Время выполнения efficient_apriori: ', t[2], '\\n')\n",
    "print('Время выполнения fpgrowth: ', t[3], '\\n')\n",
    "plt.bar(['apriori', 'apriori 2', 'efficient_apriori', 'fpgrowth'], t)\n",
    "plt.show()"
   ]
  },
  {
   "cell_type": "markdown",
   "metadata": {},
   "source": [
    "Загрузить данные data.csv."
   ]
  },
  {
   "cell_type": "code",
   "execution_count": 310,
   "metadata": {},
   "outputs": [
    {
     "data": {
      "text/html": [
       "<div>\n",
       "<style scoped>\n",
       "    .dataframe tbody tr th:only-of-type {\n",
       "        vertical-align: middle;\n",
       "    }\n",
       "\n",
       "    .dataframe tbody tr th {\n",
       "        vertical-align: top;\n",
       "    }\n",
       "\n",
       "    .dataframe thead th {\n",
       "        text-align: right;\n",
       "    }\n",
       "</style>\n",
       "<table border=\"1\" class=\"dataframe\">\n",
       "  <thead>\n",
       "    <tr style=\"text-align: right;\">\n",
       "      <th></th>\n",
       "      <th>Bread</th>\n",
       "      <th>Unnamed: 1</th>\n",
       "      <th>Unnamed: 2</th>\n",
       "      <th>Unnamed: 3</th>\n",
       "      <th>Unnamed: 4</th>\n",
       "      <th>Unnamed: 5</th>\n",
       "      <th>Unnamed: 6</th>\n",
       "      <th>Unnamed: 7</th>\n",
       "      <th>Unnamed: 8</th>\n",
       "      <th>Unnamed: 9</th>\n",
       "      <th>Unnamed: 10</th>\n",
       "      <th>Unnamed: 11</th>\n",
       "    </tr>\n",
       "  </thead>\n",
       "  <tbody>\n",
       "    <tr>\n",
       "      <th>0</th>\n",
       "      <td>Scandinavian</td>\n",
       "      <td>Scandinavian</td>\n",
       "      <td>NaN</td>\n",
       "      <td>NaN</td>\n",
       "      <td>NaN</td>\n",
       "      <td>NaN</td>\n",
       "      <td>NaN</td>\n",
       "      <td>NaN</td>\n",
       "      <td>NaN</td>\n",
       "      <td>NaN</td>\n",
       "      <td>NaN</td>\n",
       "      <td>NaN</td>\n",
       "    </tr>\n",
       "    <tr>\n",
       "      <th>1</th>\n",
       "      <td>Hot chocolate</td>\n",
       "      <td>Jam</td>\n",
       "      <td>Cookies</td>\n",
       "      <td>NaN</td>\n",
       "      <td>NaN</td>\n",
       "      <td>NaN</td>\n",
       "      <td>NaN</td>\n",
       "      <td>NaN</td>\n",
       "      <td>NaN</td>\n",
       "      <td>NaN</td>\n",
       "      <td>NaN</td>\n",
       "      <td>NaN</td>\n",
       "    </tr>\n",
       "    <tr>\n",
       "      <th>2</th>\n",
       "      <td>Muffin</td>\n",
       "      <td>NaN</td>\n",
       "      <td>NaN</td>\n",
       "      <td>NaN</td>\n",
       "      <td>NaN</td>\n",
       "      <td>NaN</td>\n",
       "      <td>NaN</td>\n",
       "      <td>NaN</td>\n",
       "      <td>NaN</td>\n",
       "      <td>NaN</td>\n",
       "      <td>NaN</td>\n",
       "      <td>NaN</td>\n",
       "    </tr>\n",
       "    <tr>\n",
       "      <th>3</th>\n",
       "      <td>Coffee</td>\n",
       "      <td>Pastry</td>\n",
       "      <td>Bread</td>\n",
       "      <td>NaN</td>\n",
       "      <td>NaN</td>\n",
       "      <td>NaN</td>\n",
       "      <td>NaN</td>\n",
       "      <td>NaN</td>\n",
       "      <td>NaN</td>\n",
       "      <td>NaN</td>\n",
       "      <td>NaN</td>\n",
       "      <td>NaN</td>\n",
       "    </tr>\n",
       "    <tr>\n",
       "      <th>4</th>\n",
       "      <td>Medialuna</td>\n",
       "      <td>Pastry</td>\n",
       "      <td>Muffin</td>\n",
       "      <td>NaN</td>\n",
       "      <td>NaN</td>\n",
       "      <td>NaN</td>\n",
       "      <td>NaN</td>\n",
       "      <td>NaN</td>\n",
       "      <td>NaN</td>\n",
       "      <td>NaN</td>\n",
       "      <td>NaN</td>\n",
       "      <td>NaN</td>\n",
       "    </tr>\n",
       "    <tr>\n",
       "      <th>...</th>\n",
       "      <td>...</td>\n",
       "      <td>...</td>\n",
       "      <td>...</td>\n",
       "      <td>...</td>\n",
       "      <td>...</td>\n",
       "      <td>...</td>\n",
       "      <td>...</td>\n",
       "      <td>...</td>\n",
       "      <td>...</td>\n",
       "      <td>...</td>\n",
       "      <td>...</td>\n",
       "      <td>...</td>\n",
       "    </tr>\n",
       "    <tr>\n",
       "      <th>9525</th>\n",
       "      <td>Bread</td>\n",
       "      <td>NaN</td>\n",
       "      <td>NaN</td>\n",
       "      <td>NaN</td>\n",
       "      <td>NaN</td>\n",
       "      <td>NaN</td>\n",
       "      <td>NaN</td>\n",
       "      <td>NaN</td>\n",
       "      <td>NaN</td>\n",
       "      <td>NaN</td>\n",
       "      <td>NaN</td>\n",
       "      <td>NaN</td>\n",
       "    </tr>\n",
       "    <tr>\n",
       "      <th>9526</th>\n",
       "      <td>Truffles</td>\n",
       "      <td>Tea</td>\n",
       "      <td>Spanish Brunch</td>\n",
       "      <td>Christmas common</td>\n",
       "      <td>NaN</td>\n",
       "      <td>NaN</td>\n",
       "      <td>NaN</td>\n",
       "      <td>NaN</td>\n",
       "      <td>NaN</td>\n",
       "      <td>NaN</td>\n",
       "      <td>NaN</td>\n",
       "      <td>NaN</td>\n",
       "    </tr>\n",
       "    <tr>\n",
       "      <th>9527</th>\n",
       "      <td>Muffin</td>\n",
       "      <td>Tacos/Fajita</td>\n",
       "      <td>Coffee</td>\n",
       "      <td>Tea</td>\n",
       "      <td>NaN</td>\n",
       "      <td>NaN</td>\n",
       "      <td>NaN</td>\n",
       "      <td>NaN</td>\n",
       "      <td>NaN</td>\n",
       "      <td>NaN</td>\n",
       "      <td>NaN</td>\n",
       "      <td>NaN</td>\n",
       "    </tr>\n",
       "    <tr>\n",
       "      <th>9528</th>\n",
       "      <td>Coffee</td>\n",
       "      <td>Pastry</td>\n",
       "      <td>NaN</td>\n",
       "      <td>NaN</td>\n",
       "      <td>NaN</td>\n",
       "      <td>NaN</td>\n",
       "      <td>NaN</td>\n",
       "      <td>NaN</td>\n",
       "      <td>NaN</td>\n",
       "      <td>NaN</td>\n",
       "      <td>NaN</td>\n",
       "      <td>NaN</td>\n",
       "    </tr>\n",
       "    <tr>\n",
       "      <th>9529</th>\n",
       "      <td>Smoothies</td>\n",
       "      <td>NaN</td>\n",
       "      <td>NaN</td>\n",
       "      <td>NaN</td>\n",
       "      <td>NaN</td>\n",
       "      <td>NaN</td>\n",
       "      <td>NaN</td>\n",
       "      <td>NaN</td>\n",
       "      <td>NaN</td>\n",
       "      <td>NaN</td>\n",
       "      <td>NaN</td>\n",
       "      <td>NaN</td>\n",
       "    </tr>\n",
       "  </tbody>\n",
       "</table>\n",
       "<p>9530 rows × 12 columns</p>\n",
       "</div>"
      ],
      "text/plain": [
       "              Bread    Unnamed: 1      Unnamed: 2        Unnamed: 3  \\\n",
       "0      Scandinavian  Scandinavian             NaN               NaN   \n",
       "1     Hot chocolate           Jam         Cookies               NaN   \n",
       "2            Muffin           NaN             NaN               NaN   \n",
       "3            Coffee        Pastry           Bread               NaN   \n",
       "4         Medialuna        Pastry          Muffin               NaN   \n",
       "...             ...           ...             ...               ...   \n",
       "9525          Bread           NaN             NaN               NaN   \n",
       "9526       Truffles           Tea  Spanish Brunch  Christmas common   \n",
       "9527         Muffin  Tacos/Fajita          Coffee               Tea   \n",
       "9528         Coffee        Pastry             NaN               NaN   \n",
       "9529      Smoothies           NaN             NaN               NaN   \n",
       "\n",
       "     Unnamed: 4 Unnamed: 5 Unnamed: 6 Unnamed: 7 Unnamed: 8 Unnamed: 9  \\\n",
       "0           NaN        NaN        NaN        NaN        NaN        NaN   \n",
       "1           NaN        NaN        NaN        NaN        NaN        NaN   \n",
       "2           NaN        NaN        NaN        NaN        NaN        NaN   \n",
       "3           NaN        NaN        NaN        NaN        NaN        NaN   \n",
       "4           NaN        NaN        NaN        NaN        NaN        NaN   \n",
       "...         ...        ...        ...        ...        ...        ...   \n",
       "9525        NaN        NaN        NaN        NaN        NaN        NaN   \n",
       "9526        NaN        NaN        NaN        NaN        NaN        NaN   \n",
       "9527        NaN        NaN        NaN        NaN        NaN        NaN   \n",
       "9528        NaN        NaN        NaN        NaN        NaN        NaN   \n",
       "9529        NaN        NaN        NaN        NaN        NaN        NaN   \n",
       "\n",
       "     Unnamed: 10 Unnamed: 11  \n",
       "0            NaN         NaN  \n",
       "1            NaN         NaN  \n",
       "2            NaN         NaN  \n",
       "3            NaN         NaN  \n",
       "4            NaN         NaN  \n",
       "...          ...         ...  \n",
       "9525         NaN         NaN  \n",
       "9526         NaN         NaN  \n",
       "9527         NaN         NaN  \n",
       "9528         NaN         NaN  \n",
       "9529         NaN         NaN  \n",
       "\n",
       "[9530 rows x 12 columns]"
      ]
     },
     "execution_count": 310,
     "metadata": {},
     "output_type": "execute_result"
    }
   ],
   "source": [
    "data = pd.read_csv('data.csv')\n",
    "data"
   ]
  },
  {
   "cell_type": "markdown",
   "metadata": {},
   "source": [
    "Визуализировать данные (отразить на гистограммах относительную и фактическую частоту встречаемости для 20 наиболее популярных товаров). \n"
   ]
  },
  {
   "cell_type": "code",
   "execution_count": 311,
   "metadata": {},
   "outputs": [
    {
     "name": "stdout",
     "output_type": "stream",
     "text": [
      "<class 'pandas.core.frame.DataFrame'>\n",
      "RangeIndex: 9530 entries, 0 to 9529\n",
      "Data columns (total 12 columns):\n",
      " #   Column       Non-Null Count  Dtype \n",
      "---  ------       --------------  ----- \n",
      " 0   Bread        9207 non-null   object\n",
      " 1   Unnamed: 1   5840 non-null   object\n",
      " 2   Unnamed: 2   2959 non-null   object\n",
      " 3   Unnamed: 3   1505 non-null   object\n",
      " 4   Unnamed: 4   596 non-null    object\n",
      " 5   Unnamed: 5   245 non-null    object\n",
      " 6   Unnamed: 6   91 non-null     object\n",
      " 7   Unnamed: 7   36 non-null     object\n",
      " 8   Unnamed: 8   13 non-null     object\n",
      " 9   Unnamed: 9   9 non-null      object\n",
      " 10  Unnamed: 10  4 non-null      object\n",
      " 11  Unnamed: 11  1 non-null      object\n",
      "dtypes: object(12)\n",
      "memory usage: 893.6+ KB\n"
     ]
    }
   ],
   "source": [
    "data.info()"
   ]
  },
  {
   "cell_type": "code",
   "execution_count": 312,
   "metadata": {},
   "outputs": [
    {
     "data": {
      "text/plain": [
       "<AxesSubplot:>"
      ]
     },
     "execution_count": 312,
     "metadata": {},
     "output_type": "execute_result"
    },
    {
     "data": {
      "image/png": "[encoded data removed]",
      "text/plain": [
       "<Figure size 640x480 with 1 Axes>"
      ]
     },
     "metadata": {},
     "output_type": "display_data"
    }
   ],
   "source": [
    "data.stack().value_counts(normalize=True)[:20].plot(kind='bar') # относительная частота\n",
    "\n"
   ]
  },
  {
   "cell_type": "code",
   "execution_count": 313,
   "metadata": {},
   "outputs": [
    {
     "data": {
      "text/plain": [
       "<AxesSubplot:>"
      ]
     },
     "execution_count": 313,
     "metadata": {},
     "output_type": "execute_result"
    },
    {
     "data": {
      "image/png": "[encoded data removed]",
      "text/plain": [
       "<Figure size 640x480 with 1 Axes>"
      ]
     },
     "metadata": {},
     "output_type": "display_data"
    }
   ],
   "source": [
    "data.stack().value_counts().apply(lambda item: item / data.shape[0])[:20].plot(kind='bar') # фактическая частота"
   ]
  },
  {
   "cell_type": "markdown",
   "metadata": {},
   "source": [
    "Применить алгоритм Apriori, используя 3 разные библиотеки (apriori_python, apyori, efficient_apriori)."
   ]
  },
  {
   "cell_type": "code",
   "execution_count": 314,
   "metadata": {},
   "outputs": [],
   "source": [
    "'''\n",
    "В большинстве библиотек, которые реализуют алгоритмы поиска ассоциативных правил в качестве входных значений необходимо подавать список транзакций, \n",
    "то есть список списков, поэтому нам необходимо преобразовать наш датасет в такой формат. \n",
    "При этом необходимо контролировать пустые значения в данных (NaN), их добавлять в список не надо.\n",
    "'''\n",
    "transactions = []\n",
    "for i in range(0, data.shape[0]):\n",
    "    row = data.iloc[i].dropna().tolist()\n",
    "    transactions.append(row)"
   ]
  },
  {
   "cell_type": "code",
   "execution_count": 315,
   "metadata": {},
   "outputs": [
    {
     "name": "stdout",
     "output_type": "stream",
     "text": [
      "Scandinavian\n",
      "['Scandinavian', 'Scandinavian']\n"
     ]
    }
   ],
   "source": [
    "'''Также выведем первый элемент и первый список, и сравним с нашим датасетом, чтобы удостоверится, что преобразование прошло удачно'''\n",
    "print(f'{transactions[0][0]}\\n{transactions[0]}')"
   ]
  },
  {
   "cell_type": "code",
   "execution_count": 323,
   "metadata": {},
   "outputs": [
    {
     "data": {
      "text/plain": [
       "[[{'Pastry'}, {'Bread'}, 0.33865030674846625],\n",
       " [{'Tea'}, {'Coffee'}, 0.3496296296296296],\n",
       " [{'Hot chocolate'}, {'Coffee'}, 0.5072463768115942],\n",
       " [{'Cookies'}, {'Coffee'}, 0.5184466019417475],\n",
       " [{'Cake'}, {'Coffee'}, 0.5269582909460834],\n",
       " [{'Sandwich'}, {'Coffee'}, 0.5323529411764706],\n",
       " [{'Juice'}, {'Coffee'}, 0.5342465753424658],\n",
       " [{'Pastry'}, {'Coffee'}, 0.5521472392638037],\n",
       " [{'Medialuna'}, {'Coffee'}, 0.5692307692307692],\n",
       " [{'Toast'}, {'Coffee'}, 0.7044025157232704]]"
      ]
     },
     "execution_count": 323,
     "metadata": {},
     "output_type": "execute_result"
    }
   ],
   "source": [
    "# apriori_python\n",
    "'''\n",
    "minSup – это минимальная поддержка. \n",
    "Значение поддержки меняется от 0 (когда условие и следствие не встречаются вместе ни в одной транзакции) \n",
    "до 1 (когда условие и следствие во всех транзакциях появляются совместно). \n",
    "\n",
    "minConf – минимальная достоверность. \n",
    "Это показатель, характеризующий уверенность в том, что ассоциация A → B является ассоциативным правилом. \n",
    "То есть предположение о том, что появление события A влечёт за собой появление события B, является достаточно достоверным.\n",
    "'''\n",
    "t = []\n",
    "start = time.perf_counter()\n",
    "\n",
    "t1, rules = apriori(transactions, minSup=0.02, minConf=0.3)\n",
    "time1 = (time.perf_counter() - start)\n",
    "t.append(time1)\n",
    "rules\n"
   ]
  },
  {
   "cell_type": "code",
   "execution_count": 317,
   "metadata": {},
   "outputs": [
    {
     "name": "stdout",
     "output_type": "stream",
     "text": [
      "frozenset({'Pastry'}) frozenset({'Bread'})\n",
      "Support: 0.028961175236096537; Confidence: 0.33865030674846625, Lift: 1.0424216483568745;\n",
      "\n",
      "frozenset({'Cake'}) frozenset({'Coffee'})\n",
      "Support: 0.05435466946484785; Confidence: 0.5269582909460834, Lift: 1.109079618532724;\n",
      "\n",
      "frozenset({'Cookies'}) frozenset({'Coffee'})\n",
      "Support: 0.02801678908709339; Confidence: 0.5184466019417475, Lift: 1.0911652200761603;\n",
      "\n",
      "frozenset({'Hot chocolate'}) frozenset({'Coffee'})\n",
      "Support: 0.02938090241343127; Confidence: 0.5072463768115942, Lift: 1.0675923080862397;\n",
      "\n",
      "frozenset({'Juice'}) frozenset({'Coffee'})\n",
      "Support: 0.020461699895068207; Confidence: 0.5342465753424658, Lift: 1.124419139358149;\n",
      "\n",
      "frozenset({'Medialuna'}) frozenset({'Coffee'})\n",
      "Support: 0.034942287513116475; Confidence: 0.5692307692307693, Lift: 1.1980497417776572;\n",
      "\n",
      "frozenset({'Pastry'}) frozenset({'Coffee'})\n",
      "Support: 0.0472193074501574; Confidence: 0.5521472392638037, Lift: 1.162094344121919;\n",
      "\n",
      "frozenset({'Sandwich'}) frozenset({'Coffee'})\n",
      "Support: 0.037985309548793283; Confidence: 0.5323529411764706, Lift: 1.1204336416545417;\n",
      "\n",
      "frozenset({'Toast'}) frozenset({'Coffee'})\n",
      "Support: 0.023504721930745015; Confidence: 0.7044025157232705, Lift: 1.4825432806631553;\n",
      "\n"
     ]
    }
   ],
   "source": [
    "# apyori\n",
    "'''\n",
    "Здесь принимаются те же аргументы, что и в прошлой библиотеке, \n",
    "но необходимо указать минимальный лифт чуть больше 1, чтобы исключить вывод независимых правил\n",
    "'''\n",
    "\n",
    "start = time.perf_counter()\n",
    "rules = apri(transactions=transactions,\n",
    "             min_support=0.02,\n",
    "             min_confidence=0.3,\n",
    "             min_lift=1.0001)\n",
    "results = list(rules)\n",
    "time1 = (time.perf_counter() - start)\n",
    "t.append(time1)\n",
    "for result in results:\n",
    "    for subset in result[2]:\n",
    "        print(subset[0], subset[1])\n",
    "        print('Support: {0}; Confidence: {1}, Lift: {2};'.format(\n",
    "            result[1], subset[2], subset[3]))\n",
    "        print()"
   ]
  },
  {
   "cell_type": "code",
   "execution_count": 318,
   "metadata": {},
   "outputs": [
    {
     "name": "stdout",
     "output_type": "stream",
     "text": [
      "{Pastry} -> {Bread} (conf: 0.339, supp: 0.029, lift: 1.042, conv: 1.021)\n",
      "{Cake} -> {Coffee} (conf: 0.527, supp: 0.054, lift: 1.109, conv: 1.110)\n",
      "{Cookies} -> {Coffee} (conf: 0.518, supp: 0.028, lift: 1.091, conv: 1.090)\n",
      "{Hot chocolate} -> {Coffee} (conf: 0.507, supp: 0.029, lift: 1.068, conv: 1.065)\n",
      "{Juice} -> {Coffee} (conf: 0.534, supp: 0.020, lift: 1.124, conv: 1.127)\n",
      "{Medialuna} -> {Coffee} (conf: 0.569, supp: 0.035, lift: 1.198, conv: 1.218)\n",
      "{Pastry} -> {Coffee} (conf: 0.552, supp: 0.047, lift: 1.162, conv: 1.172)\n",
      "{Sandwich} -> {Coffee} (conf: 0.532, supp: 0.038, lift: 1.120, conv: 1.122)\n",
      "{Tea} -> {Coffee} (conf: 0.350, supp: 0.050, lift: 0.736, conv: 0.807)\n",
      "{Toast} -> {Coffee} (conf: 0.704, supp: 0.024, lift: 1.483, conv: 1.776)\n"
     ]
    }
   ],
   "source": [
    "# eff_apriori\n",
    "start = time.perf_counter()\n",
    "\n",
    "itemsets, rules = eff_apr(transactions, min_support=0.02, min_confidence=0.3)\n",
    "time1 = (time.perf_counter() - start)\n",
    "t.append(time1)\n",
    "for i in range(0, len(rules)):\n",
    "    print(rules[i])"
   ]
  },
  {
   "cell_type": "code",
   "execution_count": 319,
   "metadata": {},
   "outputs": [
    {
     "name": "stdout",
     "output_type": "stream",
     "text": [
      "[{'Toast'}, {'Coffee'}, 0.7044025157232704]\n",
      "[{'Scone'}, {'Coffee'}, 0.5229357798165137]\n",
      "[{'Soup'}, {'Coffee'}, 0.4601226993865031]\n",
      "[{'Juice'}, {'Coffee'}, 0.5342465753424658]\n",
      "[{'Alfajores'}, {'Coffee'}, 0.5406976744186046]\n",
      "[{'Muffin'}, {'Coffee'}, 0.489010989010989]\n",
      "[{'Brownie'}, {'Coffee'}, 0.49076517150395776]\n",
      "[{'Cookies'}, {'Coffee'}, 0.5184466019417475]\n",
      "[{'Hot chocolate'}, {'Coffee'}, 0.5072463768115942]\n",
      "[{'Medialuna'}, {'Coffee'}, 0.5692307692307692]\n",
      "[{'Sandwich'}, {'Coffee'}, 0.5323529411764706]\n",
      "[{'Pastry'}, {'Bread'}, 0.33865030674846625]\n",
      "[{'Pastry'}, {'Coffee'}, 0.5521472392638037]\n",
      "[{'Cake'}, {'Coffee'}, 0.5269582909460834]\n",
      "[{'Cake'}, {'Coffee'}, 0.5269582909460834]\n",
      "[{'Tea'}, {'Coffee'}, 0.3496296296296296]\n"
     ]
    }
   ],
   "source": [
    "# fpgrowth_py\n",
    "start = time.perf_counter()\n",
    "itemsets, rules = fpgrowth(transactions, minSupRatio=0.02, minConf=0.3)\n",
    "time1 = (time.perf_counter() - start)\n",
    "t.append(time1)\n",
    "for i in range(0, len(rules)):\n",
    "    print(rules[i])"
   ]
  },
  {
   "cell_type": "markdown",
   "metadata": {},
   "source": [
    "Сравнить время выполнения всех алгоритмов и построить гистограмму."
   ]
  },
  {
   "cell_type": "code",
   "execution_count": 320,
   "metadata": {},
   "outputs": [
    {
     "name": "stdout",
     "output_type": "stream",
     "text": [
      "Время выполнения apriori:  0.48144699999829754 \n",
      "\n",
      "Время выполнения apriori 2:  0.008974900003522635 \n",
      "\n",
      "Время выполнения efficient_apriori:  0.007469800009857863 \n",
      "\n",
      "Время выполнения fpgrowth:  0.2410098999971524 \n",
      "\n"
     ]
    },
    {
     "data": {
      "image/png": "[encoded data removed]",
      "text/plain": [
       "<Figure size 640x480 with 1 Axes>"
      ]
     },
     "metadata": {},
     "output_type": "display_data"
    }
   ],
   "source": [
    "print('Время выполнения apriori: ', t[0], '\\n')\n",
    "print('Время выполнения apriori 2: ', t[1], '\\n')\n",
    "print('Время выполнения efficient_apriori: ', t[2], '\\n')\n",
    "print('Время выполнения fpgrowth: ', t[3], '\\n')\n",
    "plt.bar(['apriori', 'apriori 2', 'efficient_apriori', 'fpgrowth'], t)\n",
    "plt.show()"
   ]
  }
 ],
 "metadata": {
  "kernelspec": {
   "display_name": "Python 3.10.5 64-bit",
   "language": "python",
   "name": "python3"
  },
  "language_info": {
   "codemirror_mode": {
    "name": "ipython",
    "version": 3
   },
   "file_extension": ".py",
   "mimetype": "text/x-python",
   "name": "python",
   "nbconvert_exporter": "python",
   "pygments_lexer": "ipython3",
   "version": "3.10.5"
  },
  "orig_nbformat": 4,
  "vscode": {
   "interpreter": {
    "hash": "fb4569285eef3a3450cb62085a5b1e0da4bce0af555edc33dcf29baf3acc1368"
   }
  }
 },
 "nbformat": 4,
 "nbformat_minor": 2
}
