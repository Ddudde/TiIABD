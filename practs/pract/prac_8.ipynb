{
 "cells": [
  {
   "cell_type": "code",
   "execution_count": 155,
   "id": "0b904695",
   "metadata": {},
   "outputs": [],
   "source": [
    "import pandas as pd\n",
    "import numpy as np\n",
    "import matplotlib.pyplot as plt\n",
    "import seaborn as sns\n",
    "from sklearn.linear_model import LinearRegression\n",
    "from pandas import DataFrame\n",
    "import scipy.stats as stats\n",
    "import statsmodels.api as sm\n",
    "from statsmodels.formula.api import ols\n",
    "from statsmodels.stats.multicomp import pairwise_tukeyhsd"
   ]
  },
  {
   "cell_type": "markdown",
   "id": "d46fe47f",
   "metadata": {},
   "source": [
    "Задание №1. Загрузить данные: 'insurance.csv'. Вывести и провести предобработку. Вывести список уникальных регионов."
   ]
  },
  {
   "cell_type": "code",
   "execution_count": 156,
   "id": "d55654a6",
   "metadata": {},
   "outputs": [
    {
     "name": "stdout",
     "output_type": "stream",
     "text": [
      "Загруженный датасет: \n",
      "\n",
      "      age     sex     bmi  children smoker     region      charges\n",
      "0      19  female  27.900         0    yes  southwest  16884.92400\n",
      "1      18    male  33.770         1     no  southeast   1725.55230\n",
      "2      28    male  33.000         3     no  southeast   4449.46200\n",
      "3      33    male  22.705         0     no  northwest  21984.47061\n",
      "4      32    male  28.880         0     no  northwest   3866.85520\n",
      "...   ...     ...     ...       ...    ...        ...          ...\n",
      "1333   50    male  30.970         3     no  northwest  10600.54830\n",
      "1334   18  female  31.920         0     no  northeast   2205.98080\n",
      "1335   18  female  36.850         0     no  southeast   1629.83350\n",
      "1336   21  female  25.800         0     no  southwest   2007.94500\n",
      "1337   61  female  29.070         0    yes  northwest  29141.36030\n",
      "\n",
      "[1338 rows x 7 columns] \n",
      "\n",
      "--------------------------------------------\n",
      "\n",
      " Уникальные регионы из датасета: \n",
      "\n",
      "['southwest' 'southeast' 'northwest' 'northeast']\n"
     ]
    }
   ],
   "source": [
    "data = pd.read_csv('insurance.csv') # Загружаем данные\n",
    "print('Загруженный датасет:', '\\n')\n",
    "print(data, '\\n') # Смотрим на наши данные\n",
    "print('--------------------------------------------')\n",
    "print('\\n', 'Уникальные регионы из датасета:', '\\n')\n",
    "print(pd.unique(data.region)) # Смотрим уникальные регионы region"
   ]
  },
  {
   "cell_type": "markdown",
   "id": "cf82f86c",
   "metadata": {},
   "source": [
    "Задание №2. Выполнить однофакторный ANOVA тест, чтобы проверить влияние региона на индекс массы тела (BMI), используя первый способ, через библиотеку Scipy."
   ]
  },
  {
   "cell_type": "code",
   "execution_count": 157,
   "id": "c92e0a7f",
   "metadata": {},
   "outputs": [
    {
     "data": {
      "text/plain": [
       "F_onewayResult(statistic=39.49505720170283, pvalue=1.881838913929143e-24)"
      ]
     },
     "execution_count": 157,
     "metadata": {},
     "output_type": "execute_result"
    }
   ],
   "source": [
    "groups = data.groupby('region').groups # Делим наш датасет на группы регионов\n",
    "\n",
    "# Затем добавляем конкретные группы\n",
    "southwest = data.bmi[groups['southwest']]\n",
    "southeast = data.bmi[groups['southeast']]\n",
    "northwest = data.bmi[groups['northwest']]\n",
    "northeast = data.bmi[groups['northeast']]\n",
    "\n",
    "# Выполняе ANOVA тест\n",
    "stats.f_oneway(southwest, southeast, northwest, northeast)"
   ]
  },
  {
   "cell_type": "markdown",
   "id": "273dfd4e",
   "metadata": {},
   "source": [
    "Задание №3. Выполнить однофакторный ANOVA тест, чтобы проверить влияние региона на индекс массы тела (BMI), используя второй способ, с помощью функции anova_lm() из библиотеки statsmodels."
   ]
  },
  {
   "cell_type": "code",
   "execution_count": 158,
   "id": "baf905d5",
   "metadata": {},
   "outputs": [
    {
     "name": "stdout",
     "output_type": "stream",
     "text": [
      "                sum_sq      df          F        PR(>F)\n",
      "region     4055.880631     3.0  39.495057  1.881839e-24\n",
      "Residual  45664.319755  1334.0        NaN           NaN\n"
     ]
    }
   ],
   "source": [
    "model = ols('bmi ~ region', data = data).fit()\n",
    "anova_results = sm.stats.anova_lm(model, typ = 2)\n",
    "print(anova_results)"
   ]
  },
  {
   "cell_type": "markdown",
   "id": "9fb9eea2",
   "metadata": {},
   "source": [
    "Задание №4. С помощью t критерия Стьюдента перебрать все пары. Определить поправку Бонферрони. Сделать выводы."
   ]
  },
  {
   "cell_type": "code",
   "execution_count": 159,
   "id": "24f20d4a",
   "metadata": {},
   "outputs": [
    {
     "name": "stdout",
     "output_type": "stream",
     "text": [
      "southwest southeast\n",
      "Ttest_indResult(statistic=-5.908373821545118, pvalue=5.4374009639680636e-09)\n",
      "southwest northwest\n",
      "Ttest_indResult(statistic=3.2844171500398582, pvalue=0.001076958496307695)\n",
      "southwest northeast\n",
      "Ttest_indResult(statistic=3.1169000930045923, pvalue=0.0019086161671573072)\n",
      "southeast northwest\n",
      "Ttest_indResult(statistic=9.25649013552548, pvalue=2.643571405230106e-19)\n",
      "southeast northeast\n",
      "Ttest_indResult(statistic=8.790905562598699, pvalue=1.186014937424813e-17)\n",
      "northwest northeast\n",
      "Ttest_indResult(statistic=0.060307727183293185, pvalue=0.951929170821864)\n",
      "\n",
      " Поправка Бонферрони равна: 0.008 \n",
      "\n",
      "Теперь определим, какие гипотезы мы можем отклонить, а какие принять\n",
      "Для этого мы будем смотреть, превышает ли поправка Бонферрони p-значение для каждой из пар\n",
      "Если p-значение пары превышает поправку Бонферрони - гипотеза принимается, иначе она отклоняется \n",
      "\n",
      "southwest - southeast, 5.43e-09 < 0.008 ---> гипотеза отклоняется\n",
      "southwest - northwest, 0.001 < 0.008 ---> гипотеза отклоняется\n",
      "southwest - northeast, 0.001 < 0.008 ---> гипотеза отклоняется\n",
      "southeast - northwest, 2.64e-19 < 0.008 ---> гипотеза отклоняется\n",
      "southeast - northeast, 1.18e-17 < 0.008 ---> гипотеза отклоняется\n",
      "northwest - northeast, 0.95 > 0.008 ---> гипотеза принимается\n"
     ]
    }
   ],
   "source": [
    "# Перебираем все пары регионов\n",
    "region = ['southwest', 'southeast', 'northwest', 'northeast']\n",
    "region_pairs = []\n",
    "\n",
    "for i in range(3):\n",
    "    for j in range(i + 1, 4):\n",
    "        region_pairs.append((region[i], region[j]))\n",
    "\n",
    "# Делаем t критерий Стьюдента для каждой пары\n",
    "for i, j in region_pairs:\n",
    "    print(i, j)\n",
    "    print(stats.ttest_ind(data.bmi[groups[i]], data.bmi[groups[j]]))\n",
    "    \n",
    "# Определяем поправку Бонферрони\n",
    "x = 0.05 / 6 \n",
    "print('\\n', 'Поправка Бонферрони равна:', round(x, 3), '\\n')\n",
    "print('Теперь определим, какие гипотезы мы можем отклонить, а какие принять')\n",
    "print('Для этого мы будем смотреть, превышает ли поправка Бонферрони p-значение для каждой из пар')\n",
    "print('Если p-значение пары превышает поправку Бонферрони - гипотеза принимается, иначе она отклоняется', '\\n')\n",
    "print('southwest - southeast, 5.43e-09 < 0.008 ---> гипотеза отклоняется')\n",
    "print('southwest - northwest, 0.001 < 0.008 ---> гипотеза отклоняется')\n",
    "print('southwest - northeast, 0.001 < 0.008 ---> гипотеза отклоняется')\n",
    "print('southeast - northwest, 2.64e-19 < 0.008 ---> гипотеза отклоняется')\n",
    "print('southeast - northeast, 1.18e-17 < 0.008 ---> гипотеза отклоняется')\n",
    "print('northwest - northeast, 0.95 > 0.008 ---> гипотеза принимается')"
   ]
  },
  {
   "cell_type": "markdown",
   "id": "802502a2",
   "metadata": {},
   "source": [
    "Задание №5. Выполнить пост-хок тесты Тьюки и построить график."
   ]
  },
  {
   "cell_type": "code",
   "execution_count": 160,
   "id": "dc696a00",
   "metadata": {},
   "outputs": [
    {
     "name": "stdout",
     "output_type": "stream",
     "text": [
      "   Multiple Comparison of Means - Tukey HSD, FWER=0.05    \n",
      "==========================================================\n",
      "  group1    group2  meandiff p-adj   lower   upper  reject\n",
      "----------------------------------------------------------\n",
      "northeast northwest   0.0263 0.9999 -1.1552  1.2078  False\n",
      "northeast southeast   4.1825   -0.0   3.033   5.332   True\n",
      "northeast southwest   1.4231 0.0107  0.2416  2.6046   True\n",
      "northwest southeast   4.1562   -0.0  3.0077  5.3047   True\n",
      "northwest southwest   1.3968 0.0127  0.2162  2.5774   True\n",
      "southeast southwest  -2.7594    0.0 -3.9079 -1.6108   True\n",
      "----------------------------------------------------------\n",
      "Как мы можем заметить, судя по столбцу \"reject\" будет принята только одна группа: northwest - northeast...\n",
      "\n",
      " ...которую мы и определили, используя поправку Бонферрони\n"
     ]
    },
    {
     "data": {
      "image/png": "[encoded data removed]",
      "text/plain": [
       "<Figure size 720x432 with 1 Axes>"
      ]
     },
     "metadata": {
      "needs_background": "light"
     },
     "output_type": "display_data"
    }
   ],
   "source": [
    "tukey = pairwise_tukeyhsd(endog = data.bmi, groups = data.region, alpha = 0.05)\n",
    "tukey.plot_simultaneous()\n",
    "plt.vlines(x = 31.25, ymin = -0.5, ymax = 3.5, color = 'red')\n",
    "print(tukey.summary())\n",
    "print('Как мы можем заметить, судя по столбцу \"reject\" будет принята только одна группа: northwest - northeast...')\n",
    "print('\\n', '...которую мы и определили, используя поправку Бонферрони')"
   ]
  },
  {
   "cell_type": "markdown",
   "id": "e3464a8a",
   "metadata": {},
   "source": [
    "Задание №6. Выполнить двухфакторный ANOVA тест, чтобы проверить влияние региона и пола на индекс массы тела (BMI), используя функцию anova_lm() из библиотеки statsmodels."
   ]
  },
  {
   "cell_type": "code",
   "execution_count": 161,
   "id": "9ceda9e1",
   "metadata": {},
   "outputs": [
    {
     "name": "stdout",
     "output_type": "stream",
     "text": [
      "                      df        sum_sq      mean_sq          F        PR(>F)\n",
      "C(region)            3.0   4055.880631  1351.960210  39.602259  1.636858e-24\n",
      "C(sex)               1.0     86.007035    86.007035   2.519359  1.126940e-01\n",
      "C(region):C(sex)     3.0    174.157808    58.052603   1.700504  1.650655e-01\n",
      "Residual          1330.0  45404.154911    34.138462        NaN           NaN\n",
      "\n",
      " p-значение для эффекта взаимодействия(0.165) > 0.05 ---> говорит нам об отсутсвии значительного эффекта взаимодействия между этими двумя факторами\n"
     ]
    }
   ],
   "source": [
    "model = ols('bmi ~ C(region) + C(sex) + C(region):C(sex)', data = data).fit()\n",
    "print(sm.stats.anova_lm(model, type = 2))\n",
    "print('\\n', 'p-значение для эффекта взаимодействия(0.165) > 0.05 ---> говорит нам об отсутсвии значительного эффекта взаимодействия между этими двумя факторами')"
   ]
  },
  {
   "cell_type": "markdown",
   "id": "ded7130b",
   "metadata": {},
   "source": [
    "Задание №7. Выполнить пост-хок тесты Тьюки и построить график."
   ]
  },
  {
   "cell_type": "code",
   "execution_count": 162,
   "id": "0fbfe0f6",
   "metadata": {},
   "outputs": [
    {
     "name": "stdout",
     "output_type": "stream",
     "text": [
      "            Multiple Comparison of Means - Tukey HSD, FWER=0.05             \n",
      "============================================================================\n",
      "      group1             group2       meandiff p-adj   lower   upper  reject\n",
      "----------------------------------------------------------------------------\n",
      "female / northeast female / northwest  -0.0464    1.0 -2.0142  1.9215  False\n",
      "female / northeast female / southeast   3.3469    0.0    1.41  5.2839   True\n",
      "female / northeast female / southwest   0.7362 0.9497 -1.2377    2.71  False\n",
      "female / northeast   male / northeast  -0.2998 0.9998 -2.2706  1.6711  False\n",
      "female / northeast   male / northwest  -0.2042    1.0 -2.1811  1.7728  False\n",
      "female / northeast   male / southeast   4.6657    0.0  2.7634   6.568   True\n",
      "female / northeast   male / southwest   1.8051 0.1007 -0.1657   3.776  False\n",
      "female / northwest female / southeast   3.3933    0.0  1.4656   5.321   True\n",
      "female / northwest female / southwest   0.7825 0.9294 -1.1822  2.7473  False\n",
      "female / northwest   male / northeast  -0.2534 0.9999 -2.2152  1.7083  False\n",
      "female / northwest   male / northwest  -0.1578    1.0 -2.1257    1.81  False\n",
      "female / northwest   male / southeast    4.712    0.0  2.8192  6.6049   True\n",
      "female / northwest   male / southwest   1.8515 0.0806 -0.1103  3.8132  False\n",
      "female / southeast female / southwest  -2.6108 0.0011 -4.5446 -0.6769   True\n",
      "female / southeast   male / northeast  -3.6467    0.0 -5.5775 -1.7159   True\n",
      "female / southeast   male / northwest  -3.5511    0.0 -5.4881 -1.6141   True\n",
      "female / southeast   male / southeast   1.3187 0.3823  -0.542  3.1795  False\n",
      "female / southeast   male / southwest  -1.5418 0.2304 -3.4726   0.389  False\n",
      "female / southwest   male / northeast   -1.036 0.7515 -3.0037  0.9318  False\n",
      "female / southwest   male / northwest  -0.9403 0.8354 -2.9142  1.0335  False\n",
      "female / southwest   male / southeast   3.9295    0.0  2.0304  5.8286   True\n",
      "female / southwest   male / southwest    1.069 0.7201 -0.8988  3.0367  False\n",
      "  male / northeast   male / northwest   0.0956    1.0 -1.8752  2.0665  False\n",
      "  male / northeast   male / southeast   4.9655    0.0  3.0695  6.8614   True\n",
      "  male / northeast   male / southwest   2.1049 0.0258  0.1402  4.0697   True\n",
      "  male / northwest   male / southeast   4.8698    0.0  2.9676  6.7721   True\n",
      "  male / northwest   male / southwest   2.0093  0.042  0.0385  3.9801   True\n",
      "  male / southeast   male / southwest  -2.8606 0.0001 -4.7565 -0.9646   True\n",
      "----------------------------------------------------------------------------\n"
     ]
    },
    {
     "data": {
      "image/png": "[encoded data removed]",
      "text/plain": [
       "<Figure size 720x432 with 1 Axes>"
      ]
     },
     "metadata": {
      "needs_background": "light"
     },
     "output_type": "display_data"
    }
   ],
   "source": [
    "data['combination'] = data.sex + ' / ' + data.region\n",
    "tukey = pairwise_tukeyhsd(endog = data.bmi, groups = data.combination, alpha = 0.05)\n",
    "tukey.plot_simultaneous()\n",
    "plt.vlines(x = 31.5, ymin = -0.5, ymax = 7.5, color = 'red')\n",
    "print(tukey.summary())"
   ]
  },
  {
   "cell_type": "code",
   "execution_count": null,
   "id": "3ab76bf4",
   "metadata": {},
   "outputs": [],
   "source": []
  },
  {
   "cell_type": "code",
   "execution_count": null,
   "id": "af7fa1a4",
   "metadata": {},
   "outputs": [],
   "source": []
  },
  {
   "cell_type": "code",
   "execution_count": null,
   "id": "649fe466",
   "metadata": {},
   "outputs": [],
   "source": []
  },
  {
   "cell_type": "code",
   "execution_count": null,
   "id": "fdf80e0d",
   "metadata": {},
   "outputs": [],
   "source": []
  }
 ],
 "metadata": {
  "kernelspec": {
   "display_name": "Python 3 (ipykernel)",
   "language": "python",
   "name": "python3"
  },
  "language_info": {
   "codemirror_mode": {
    "name": "ipython",
    "version": 3
   },
   "file_extension": ".py",
   "mimetype": "text/x-python",
   "name": "python",
   "nbconvert_exporter": "python",
   "pygments_lexer": "ipython3",
   "version": "3.9.12"
  }
 },
 "nbformat": 4,
 "nbformat_minor": 5
}
