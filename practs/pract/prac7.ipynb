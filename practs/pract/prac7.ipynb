{
 "cells": [
  {
   "cell_type": "code",
   "execution_count": 1,
   "metadata": {},
   "outputs": [],
   "source": [
    "import pandas as pd\n",
    "import numpy as np\n",
    "import matplotlib.pyplot as plt\n",
    "from sklearn.linear_model import LinearRegression\n",
    "from pandas import DataFrame"
   ]
  },
  {
   "cell_type": "markdown",
   "metadata": {},
   "source": [
    "Определить два вектора, представляющие собой число автомобилей,\n",
    "припаркованных в течении 5 рабочих дней у бизнес-центра на уличной\n",
    "стоянке и в подземном гараже."
   ]
  },
  {
   "cell_type": "code",
   "execution_count": 2,
   "metadata": {},
   "outputs": [
    {
     "data": {
      "text/plain": [
       "array([[ 1., -1.],\n",
       "       [-1.,  1.]])"
      ]
     },
     "execution_count": 2,
     "metadata": {},
     "output_type": "execute_result"
    }
   ],
   "source": [
    "street = np.array([80,98,75,91,78])\n",
    "garage = np.array([100,82,105,89,102])\n",
    "day = np.array(['Понедельник', 'Вторник', 'Среда', 'Четверг', 'Пятница'])\n",
    "\n",
    "np.corrcoef(street,garage)"
   ]
  },
  {
   "cell_type": "markdown",
   "metadata": {},
   "source": [
    "Найти и интерпретировать корреляцию между переменными «Улица» и «Гараж» (подсчитать корреляцию по Пирсону).\n",
    "Коэффициент корреляции практически равен –1, что означает сильную\n",
    "отрицательную корреляцию."
   ]
  },
  {
   "cell_type": "code",
   "execution_count": 3,
   "metadata": {},
   "outputs": [
    {
     "data": {
      "text/plain": [
       "-0.9999999999999998"
      ]
     },
     "execution_count": 3,
     "metadata": {},
     "output_type": "execute_result"
    }
   ],
   "source": [
    "np.corrcoef(street,garage)[0,1]"
   ]
  },
  {
   "cell_type": "markdown",
   "metadata": {},
   "source": [
    "Построить диаграмму рассеяния."
   ]
  },
  {
   "cell_type": "code",
   "execution_count": 4,
   "metadata": {},
   "outputs": [
    {
     "data": {
      "text/plain": [
       "<matplotlib.collections.PathCollection at 0x268c4fc3f70>"
      ]
     },
     "execution_count": 4,
     "metadata": {},
     "output_type": "execute_result"
    },
    {
     "data": {
      "image/png": "[encoded data removed]",
      "text/plain": [
       "<Figure size 640x480 with 1 Axes>"
      ]
     },
     "metadata": {},
     "output_type": "display_data"
    }
   ],
   "source": [
    "plt.grid(True)\n",
    "plt.title('Диаграмма рассеяния')\n",
    "plt.xlabel('Число автомобилей')\n",
    "plt.ylabel('День недели')\n",
    "plt.scatter(street, day,  marker = 'o', color = 'crimson')\n",
    "plt.scatter(garage, day,  marker = 'x', color = 'crimson')"
   ]
  },
  {
   "cell_type": "markdown",
   "metadata": {},
   "source": [
    "Загрузить bitcoin.csv."
   ]
  },
  {
   "cell_type": "code",
   "execution_count": 5,
   "metadata": {},
   "outputs": [
    {
     "data": {
      "text/html": [
       "<div>\n",
       "<style scoped>\n",
       "    .dataframe tbody tr th:only-of-type {\n",
       "        vertical-align: middle;\n",
       "    }\n",
       "\n",
       "    .dataframe tbody tr th {\n",
       "        vertical-align: top;\n",
       "    }\n",
       "\n",
       "    .dataframe thead th {\n",
       "        text-align: right;\n",
       "    }\n",
       "</style>\n",
       "<table border=\"1\" class=\"dataframe\">\n",
       "  <thead>\n",
       "    <tr style=\"text-align: right;\">\n",
       "      <th></th>\n",
       "      <th>Unnamed: 0</th>\n",
       "      <th>time</th>\n",
       "      <th>high</th>\n",
       "      <th>low</th>\n",
       "      <th>open</th>\n",
       "      <th>volumefrom</th>\n",
       "      <th>volumeto</th>\n",
       "      <th>close</th>\n",
       "    </tr>\n",
       "  </thead>\n",
       "  <tbody>\n",
       "    <tr>\n",
       "      <th>0</th>\n",
       "      <td>0</td>\n",
       "      <td>2015-12-20</td>\n",
       "      <td>462.76</td>\n",
       "      <td>431.10</td>\n",
       "      <td>461.20</td>\n",
       "      <td>121531.64</td>\n",
       "      <td>5.431648e+07</td>\n",
       "      <td>441.78</td>\n",
       "    </tr>\n",
       "    <tr>\n",
       "      <th>1</th>\n",
       "      <td>1</td>\n",
       "      <td>2015-12-21</td>\n",
       "      <td>445.54</td>\n",
       "      <td>423.99</td>\n",
       "      <td>441.78</td>\n",
       "      <td>121990.88</td>\n",
       "      <td>5.327022e+07</td>\n",
       "      <td>437.59</td>\n",
       "    </tr>\n",
       "    <tr>\n",
       "      <th>2</th>\n",
       "      <td>2</td>\n",
       "      <td>2015-12-22</td>\n",
       "      <td>443.22</td>\n",
       "      <td>433.25</td>\n",
       "      <td>437.59</td>\n",
       "      <td>65785.54</td>\n",
       "      <td>2.884554e+07</td>\n",
       "      <td>437.03</td>\n",
       "    </tr>\n",
       "    <tr>\n",
       "      <th>3</th>\n",
       "      <td>3</td>\n",
       "      <td>2015-12-23</td>\n",
       "      <td>444.78</td>\n",
       "      <td>434.28</td>\n",
       "      <td>437.03</td>\n",
       "      <td>63247.04</td>\n",
       "      <td>2.787735e+07</td>\n",
       "      <td>442.43</td>\n",
       "    </tr>\n",
       "    <tr>\n",
       "      <th>4</th>\n",
       "      <td>4</td>\n",
       "      <td>2015-12-24</td>\n",
       "      <td>460.62</td>\n",
       "      <td>441.76</td>\n",
       "      <td>442.43</td>\n",
       "      <td>79604.01</td>\n",
       "      <td>3.609666e+07</td>\n",
       "      <td>452.98</td>\n",
       "    </tr>\n",
       "    <tr>\n",
       "      <th>...</th>\n",
       "      <td>...</td>\n",
       "      <td>...</td>\n",
       "      <td>...</td>\n",
       "      <td>...</td>\n",
       "      <td>...</td>\n",
       "      <td>...</td>\n",
       "      <td>...</td>\n",
       "      <td>...</td>\n",
       "    </tr>\n",
       "    <tr>\n",
       "      <th>1996</th>\n",
       "      <td>1996</td>\n",
       "      <td>2021-06-07</td>\n",
       "      <td>36790.39</td>\n",
       "      <td>33367.12</td>\n",
       "      <td>35798.57</td>\n",
       "      <td>52209.55</td>\n",
       "      <td>1.850311e+09</td>\n",
       "      <td>33582.86</td>\n",
       "    </tr>\n",
       "    <tr>\n",
       "      <th>1997</th>\n",
       "      <td>1997</td>\n",
       "      <td>2021-06-08</td>\n",
       "      <td>34061.09</td>\n",
       "      <td>31034.35</td>\n",
       "      <td>33582.86</td>\n",
       "      <td>88483.79</td>\n",
       "      <td>2.890313e+09</td>\n",
       "      <td>33409.38</td>\n",
       "    </tr>\n",
       "    <tr>\n",
       "      <th>1998</th>\n",
       "      <td>1998</td>\n",
       "      <td>2021-06-09</td>\n",
       "      <td>37528.42</td>\n",
       "      <td>32435.18</td>\n",
       "      <td>33409.38</td>\n",
       "      <td>92280.57</td>\n",
       "      <td>3.249554e+09</td>\n",
       "      <td>37391.58</td>\n",
       "    </tr>\n",
       "    <tr>\n",
       "      <th>1999</th>\n",
       "      <td>1999</td>\n",
       "      <td>2021-06-10</td>\n",
       "      <td>38387.20</td>\n",
       "      <td>35821.05</td>\n",
       "      <td>37391.58</td>\n",
       "      <td>63052.49</td>\n",
       "      <td>2.338112e+09</td>\n",
       "      <td>36680.78</td>\n",
       "    </tr>\n",
       "    <tr>\n",
       "      <th>2000</th>\n",
       "      <td>2000</td>\n",
       "      <td>2021-06-11</td>\n",
       "      <td>37665.85</td>\n",
       "      <td>35981.84</td>\n",
       "      <td>36680.78</td>\n",
       "      <td>33418.02</td>\n",
       "      <td>1.235391e+09</td>\n",
       "      <td>36843.33</td>\n",
       "    </tr>\n",
       "  </tbody>\n",
       "</table>\n",
       "<p>2001 rows × 8 columns</p>\n",
       "</div>"
      ],
      "text/plain": [
       "      Unnamed: 0        time      high       low      open  volumefrom  \\\n",
       "0              0  2015-12-20    462.76    431.10    461.20   121531.64   \n",
       "1              1  2015-12-21    445.54    423.99    441.78   121990.88   \n",
       "2              2  2015-12-22    443.22    433.25    437.59    65785.54   \n",
       "3              3  2015-12-23    444.78    434.28    437.03    63247.04   \n",
       "4              4  2015-12-24    460.62    441.76    442.43    79604.01   \n",
       "...          ...         ...       ...       ...       ...         ...   \n",
       "1996        1996  2021-06-07  36790.39  33367.12  35798.57    52209.55   \n",
       "1997        1997  2021-06-08  34061.09  31034.35  33582.86    88483.79   \n",
       "1998        1998  2021-06-09  37528.42  32435.18  33409.38    92280.57   \n",
       "1999        1999  2021-06-10  38387.20  35821.05  37391.58    63052.49   \n",
       "2000        2000  2021-06-11  37665.85  35981.84  36680.78    33418.02   \n",
       "\n",
       "          volumeto     close  \n",
       "0     5.431648e+07    441.78  \n",
       "1     5.327022e+07    437.59  \n",
       "2     2.884554e+07    437.03  \n",
       "3     2.787735e+07    442.43  \n",
       "4     3.609666e+07    452.98  \n",
       "...            ...       ...  \n",
       "1996  1.850311e+09  33582.86  \n",
       "1997  2.890313e+09  33409.38  \n",
       "1998  3.249554e+09  37391.58  \n",
       "1999  2.338112e+09  36680.78  \n",
       "2000  1.235391e+09  36843.33  \n",
       "\n",
       "[2001 rows x 8 columns]"
      ]
     },
     "execution_count": 5,
     "metadata": {},
     "output_type": "execute_result"
    }
   ],
   "source": [
    "data = pd.read_csv('bitcoin.csv')\n",
    "data"
   ]
  },
  {
   "cell_type": "markdown",
   "metadata": {},
   "source": [
    "Скрыть последние 14 дней."
   ]
  },
  {
   "cell_type": "code",
   "execution_count": 6,
   "metadata": {},
   "outputs": [
    {
     "data": {
      "text/html": [
       "<div>\n",
       "<style scoped>\n",
       "    .dataframe tbody tr th:only-of-type {\n",
       "        vertical-align: middle;\n",
       "    }\n",
       "\n",
       "    .dataframe tbody tr th {\n",
       "        vertical-align: top;\n",
       "    }\n",
       "\n",
       "    .dataframe thead th {\n",
       "        text-align: right;\n",
       "    }\n",
       "</style>\n",
       "<table border=\"1\" class=\"dataframe\">\n",
       "  <thead>\n",
       "    <tr style=\"text-align: right;\">\n",
       "      <th></th>\n",
       "      <th>Unnamed: 0</th>\n",
       "      <th>time</th>\n",
       "      <th>high</th>\n",
       "      <th>low</th>\n",
       "      <th>open</th>\n",
       "      <th>volumefrom</th>\n",
       "      <th>volumeto</th>\n",
       "      <th>close</th>\n",
       "      <th>predict</th>\n",
       "    </tr>\n",
       "  </thead>\n",
       "  <tbody>\n",
       "    <tr>\n",
       "      <th>0</th>\n",
       "      <td>0</td>\n",
       "      <td>2015-12-20</td>\n",
       "      <td>462.76</td>\n",
       "      <td>431.10</td>\n",
       "      <td>461.20</td>\n",
       "      <td>121531.64</td>\n",
       "      <td>5.431648e+07</td>\n",
       "      <td>441.78</td>\n",
       "      <td>430.70</td>\n",
       "    </tr>\n",
       "    <tr>\n",
       "      <th>1</th>\n",
       "      <td>1</td>\n",
       "      <td>2015-12-21</td>\n",
       "      <td>445.54</td>\n",
       "      <td>423.99</td>\n",
       "      <td>441.78</td>\n",
       "      <td>121990.88</td>\n",
       "      <td>5.327022e+07</td>\n",
       "      <td>437.59</td>\n",
       "      <td>433.32</td>\n",
       "    </tr>\n",
       "    <tr>\n",
       "      <th>2</th>\n",
       "      <td>2</td>\n",
       "      <td>2015-12-22</td>\n",
       "      <td>443.22</td>\n",
       "      <td>433.25</td>\n",
       "      <td>437.59</td>\n",
       "      <td>65785.54</td>\n",
       "      <td>2.884554e+07</td>\n",
       "      <td>437.03</td>\n",
       "      <td>431.20</td>\n",
       "    </tr>\n",
       "    <tr>\n",
       "      <th>3</th>\n",
       "      <td>3</td>\n",
       "      <td>2015-12-23</td>\n",
       "      <td>444.78</td>\n",
       "      <td>434.28</td>\n",
       "      <td>437.03</td>\n",
       "      <td>63247.04</td>\n",
       "      <td>2.787735e+07</td>\n",
       "      <td>442.43</td>\n",
       "      <td>430.82</td>\n",
       "    </tr>\n",
       "    <tr>\n",
       "      <th>4</th>\n",
       "      <td>4</td>\n",
       "      <td>2015-12-24</td>\n",
       "      <td>460.62</td>\n",
       "      <td>441.76</td>\n",
       "      <td>442.43</td>\n",
       "      <td>79604.01</td>\n",
       "      <td>3.609666e+07</td>\n",
       "      <td>452.98</td>\n",
       "      <td>457.05</td>\n",
       "    </tr>\n",
       "    <tr>\n",
       "      <th>...</th>\n",
       "      <td>...</td>\n",
       "      <td>...</td>\n",
       "      <td>...</td>\n",
       "      <td>...</td>\n",
       "      <td>...</td>\n",
       "      <td>...</td>\n",
       "      <td>...</td>\n",
       "      <td>...</td>\n",
       "      <td>...</td>\n",
       "    </tr>\n",
       "    <tr>\n",
       "      <th>1996</th>\n",
       "      <td>1996</td>\n",
       "      <td>2021-06-07</td>\n",
       "      <td>36790.39</td>\n",
       "      <td>33367.12</td>\n",
       "      <td>35798.57</td>\n",
       "      <td>52209.55</td>\n",
       "      <td>1.850311e+09</td>\n",
       "      <td>33582.86</td>\n",
       "      <td>NaN</td>\n",
       "    </tr>\n",
       "    <tr>\n",
       "      <th>1997</th>\n",
       "      <td>1997</td>\n",
       "      <td>2021-06-08</td>\n",
       "      <td>34061.09</td>\n",
       "      <td>31034.35</td>\n",
       "      <td>33582.86</td>\n",
       "      <td>88483.79</td>\n",
       "      <td>2.890313e+09</td>\n",
       "      <td>33409.38</td>\n",
       "      <td>NaN</td>\n",
       "    </tr>\n",
       "    <tr>\n",
       "      <th>1998</th>\n",
       "      <td>1998</td>\n",
       "      <td>2021-06-09</td>\n",
       "      <td>37528.42</td>\n",
       "      <td>32435.18</td>\n",
       "      <td>33409.38</td>\n",
       "      <td>92280.57</td>\n",
       "      <td>3.249554e+09</td>\n",
       "      <td>37391.58</td>\n",
       "      <td>NaN</td>\n",
       "    </tr>\n",
       "    <tr>\n",
       "      <th>1999</th>\n",
       "      <td>1999</td>\n",
       "      <td>2021-06-10</td>\n",
       "      <td>38387.20</td>\n",
       "      <td>35821.05</td>\n",
       "      <td>37391.58</td>\n",
       "      <td>63052.49</td>\n",
       "      <td>2.338112e+09</td>\n",
       "      <td>36680.78</td>\n",
       "      <td>NaN</td>\n",
       "    </tr>\n",
       "    <tr>\n",
       "      <th>2000</th>\n",
       "      <td>2000</td>\n",
       "      <td>2021-06-11</td>\n",
       "      <td>37665.85</td>\n",
       "      <td>35981.84</td>\n",
       "      <td>36680.78</td>\n",
       "      <td>33418.02</td>\n",
       "      <td>1.235391e+09</td>\n",
       "      <td>36843.33</td>\n",
       "      <td>NaN</td>\n",
       "    </tr>\n",
       "  </tbody>\n",
       "</table>\n",
       "<p>2001 rows × 9 columns</p>\n",
       "</div>"
      ],
      "text/plain": [
       "      Unnamed: 0        time      high       low      open  volumefrom  \\\n",
       "0              0  2015-12-20    462.76    431.10    461.20   121531.64   \n",
       "1              1  2015-12-21    445.54    423.99    441.78   121990.88   \n",
       "2              2  2015-12-22    443.22    433.25    437.59    65785.54   \n",
       "3              3  2015-12-23    444.78    434.28    437.03    63247.04   \n",
       "4              4  2015-12-24    460.62    441.76    442.43    79604.01   \n",
       "...          ...         ...       ...       ...       ...         ...   \n",
       "1996        1996  2021-06-07  36790.39  33367.12  35798.57    52209.55   \n",
       "1997        1997  2021-06-08  34061.09  31034.35  33582.86    88483.79   \n",
       "1998        1998  2021-06-09  37528.42  32435.18  33409.38    92280.57   \n",
       "1999        1999  2021-06-10  38387.20  35821.05  37391.58    63052.49   \n",
       "2000        2000  2021-06-11  37665.85  35981.84  36680.78    33418.02   \n",
       "\n",
       "          volumeto     close  predict  \n",
       "0     5.431648e+07    441.78   430.70  \n",
       "1     5.327022e+07    437.59   433.32  \n",
       "2     2.884554e+07    437.03   431.20  \n",
       "3     2.787735e+07    442.43   430.82  \n",
       "4     3.609666e+07    452.98   457.05  \n",
       "...            ...       ...      ...  \n",
       "1996  1.850311e+09  33582.86      NaN  \n",
       "1997  2.890313e+09  33409.38      NaN  \n",
       "1998  3.249554e+09  37391.58      NaN  \n",
       "1999  2.338112e+09  36680.78      NaN  \n",
       "2000  1.235391e+09  36843.33      NaN  \n",
       "\n",
       "[2001 rows x 9 columns]"
      ]
     },
     "execution_count": 6,
     "metadata": {},
     "output_type": "execute_result"
    }
   ],
   "source": [
    "projection = 14\n",
    "data['predict'] = data['close'].shift(-projection)\n",
    "data"
   ]
  },
  {
   "cell_type": "markdown",
   "metadata": {},
   "source": [
    "Произвести нормализацию для нормального среза. 6.\tСделать срез по 14 дням."
   ]
  },
  {
   "cell_type": "code",
   "execution_count": 7,
   "metadata": {},
   "outputs": [
    {
     "data": {
      "text/plain": [
       "array([[430.7],\n",
       "       [433.32],\n",
       "       [431.2],\n",
       "       ...,\n",
       "       [37391.58],\n",
       "       [36680.78],\n",
       "       [36843.33]], dtype=object)"
      ]
     },
     "execution_count": 7,
     "metadata": {},
     "output_type": "execute_result"
    }
   ],
   "source": [
    "x = DataFrame(data,columns=['close'])\n",
    "y = DataFrame(data, columns=['predict'])\n",
    "x = np.array(x,type(float))[:-projection]\n",
    "y = np.array(y,type(float))[:-projection]\n",
    "y"
   ]
  },
  {
   "cell_type": "markdown",
   "metadata": {},
   "source": [
    "Построить линейную регрессию."
   ]
  },
  {
   "cell_type": "code",
   "execution_count": 8,
   "metadata": {},
   "outputs": [
    {
     "data": {
      "text/plain": [
       "array([[  790.97829972],\n",
       "       [  786.83465245],\n",
       "       [  786.28084757],\n",
       "       ...,\n",
       "       [39214.45567915],\n",
       "       [38466.58173965],\n",
       "       [35640.27806732]])"
      ]
     },
     "execution_count": 8,
     "metadata": {},
     "output_type": "execute_result"
    }
   ],
   "source": [
    "regression = LinearRegression()\n",
    "regression.fit(x,y)\n",
    "\n",
    "regression.predict(x)"
   ]
  },
  {
   "cell_type": "markdown",
   "metadata": {},
   "source": [
    "Вывести угол наклона и y-перехват."
   ]
  },
  {
   "cell_type": "code",
   "execution_count": 9,
   "metadata": {},
   "outputs": [
    {
     "data": {
      "text/plain": [
       "array([[0.98893729]])"
      ]
     },
     "execution_count": 9,
     "metadata": {},
     "output_type": "execute_result"
    }
   ],
   "source": [
    "regression.coef_"
   ]
  },
  {
   "cell_type": "code",
   "execution_count": 10,
   "metadata": {},
   "outputs": [
    {
     "data": {
      "text/plain": [
       "array([354.08558181])"
      ]
     },
     "execution_count": 10,
     "metadata": {},
     "output_type": "execute_result"
    }
   ],
   "source": [
    "regression.intercept_"
   ]
  },
  {
   "cell_type": "markdown",
   "metadata": {},
   "source": [
    "Предсказать стоимость криптовалюты за последние 14 дней с помощью функции “predict”."
   ]
  },
  {
   "cell_type": "code",
   "execution_count": 11,
   "metadata": {},
   "outputs": [
    {
     "name": "stderr",
     "output_type": "stream",
     "text": [
      "c:\\Users\\user\\AppData\\Local\\Programs\\Python\\Python310\\lib\\site-packages\\sklearn\\base.py:443: UserWarning: X has feature names, but LinearRegression was fitted without feature names\n",
      "  warnings.warn(\n"
     ]
    },
    {
     "data": {
      "text/plain": [
       "array([[34582.76786095],\n",
       "       [35622.15084671],\n",
       "       [37232.3781069 ],\n",
       "       [36631.77670928],\n",
       "       [37515.36251368],\n",
       "       [39149.75940135],\n",
       "       [36807.79765831],\n",
       "       [35499.33472412],\n",
       "       [35756.62654   ],\n",
       "       [33565.42828749],\n",
       "       [33393.86744566],\n",
       "       [37332.01353931],\n",
       "       [36629.07691047],\n",
       "       [36789.82866767]])"
      ]
     },
     "execution_count": 11,
     "metadata": {},
     "output_type": "execute_result"
    }
   ],
   "source": [
    "regression.predict(data[['close']][-projection:])"
   ]
  },
  {
   "cell_type": "markdown",
   "metadata": {},
   "source": [
    "Определить точность прогнозируемой цены закрытия с помощью функции “ score”."
   ]
  },
  {
   "cell_type": "code",
   "execution_count": 12,
   "metadata": {},
   "outputs": [
    {
     "data": {
      "text/plain": [
       "0.9490624388820347"
      ]
     },
     "execution_count": 12,
     "metadata": {},
     "output_type": "execute_result"
    }
   ],
   "source": [
    "regression.score(x,y)"
   ]
  },
  {
   "cell_type": "markdown",
   "metadata": {},
   "source": [
    "Загрузить housePrice.csv"
   ]
  },
  {
   "cell_type": "code",
   "execution_count": 13,
   "metadata": {},
   "outputs": [
    {
     "data": {
      "text/html": [
       "<div>\n",
       "<style scoped>\n",
       "    .dataframe tbody tr th:only-of-type {\n",
       "        vertical-align: middle;\n",
       "    }\n",
       "\n",
       "    .dataframe tbody tr th {\n",
       "        vertical-align: top;\n",
       "    }\n",
       "\n",
       "    .dataframe thead th {\n",
       "        text-align: right;\n",
       "    }\n",
       "</style>\n",
       "<table border=\"1\" class=\"dataframe\">\n",
       "  <thead>\n",
       "    <tr style=\"text-align: right;\">\n",
       "      <th></th>\n",
       "      <th>Area</th>\n",
       "      <th>Room</th>\n",
       "      <th>Parking</th>\n",
       "      <th>Warehouse</th>\n",
       "      <th>Elevator</th>\n",
       "      <th>Address</th>\n",
       "      <th>Price</th>\n",
       "      <th>Price(USD)</th>\n",
       "    </tr>\n",
       "  </thead>\n",
       "  <tbody>\n",
       "    <tr>\n",
       "      <th>0</th>\n",
       "      <td>63</td>\n",
       "      <td>1</td>\n",
       "      <td>True</td>\n",
       "      <td>True</td>\n",
       "      <td>True</td>\n",
       "      <td>Shahran</td>\n",
       "      <td>1.850000e+09</td>\n",
       "      <td>61666.67</td>\n",
       "    </tr>\n",
       "    <tr>\n",
       "      <th>1</th>\n",
       "      <td>60</td>\n",
       "      <td>1</td>\n",
       "      <td>True</td>\n",
       "      <td>True</td>\n",
       "      <td>True</td>\n",
       "      <td>Shahran</td>\n",
       "      <td>1.850000e+09</td>\n",
       "      <td>61666.67</td>\n",
       "    </tr>\n",
       "    <tr>\n",
       "      <th>2</th>\n",
       "      <td>79</td>\n",
       "      <td>2</td>\n",
       "      <td>True</td>\n",
       "      <td>True</td>\n",
       "      <td>True</td>\n",
       "      <td>Pardis</td>\n",
       "      <td>5.500000e+08</td>\n",
       "      <td>18333.33</td>\n",
       "    </tr>\n",
       "    <tr>\n",
       "      <th>3</th>\n",
       "      <td>95</td>\n",
       "      <td>2</td>\n",
       "      <td>True</td>\n",
       "      <td>True</td>\n",
       "      <td>True</td>\n",
       "      <td>Shahrake Qods</td>\n",
       "      <td>9.025000e+08</td>\n",
       "      <td>30083.33</td>\n",
       "    </tr>\n",
       "    <tr>\n",
       "      <th>4</th>\n",
       "      <td>123</td>\n",
       "      <td>2</td>\n",
       "      <td>True</td>\n",
       "      <td>True</td>\n",
       "      <td>True</td>\n",
       "      <td>Shahrake Gharb</td>\n",
       "      <td>7.000000e+09</td>\n",
       "      <td>233333.33</td>\n",
       "    </tr>\n",
       "    <tr>\n",
       "      <th>...</th>\n",
       "      <td>...</td>\n",
       "      <td>...</td>\n",
       "      <td>...</td>\n",
       "      <td>...</td>\n",
       "      <td>...</td>\n",
       "      <td>...</td>\n",
       "      <td>...</td>\n",
       "      <td>...</td>\n",
       "    </tr>\n",
       "    <tr>\n",
       "      <th>3474</th>\n",
       "      <td>86</td>\n",
       "      <td>2</td>\n",
       "      <td>True</td>\n",
       "      <td>True</td>\n",
       "      <td>True</td>\n",
       "      <td>Southern Janatabad</td>\n",
       "      <td>3.500000e+09</td>\n",
       "      <td>116666.67</td>\n",
       "    </tr>\n",
       "    <tr>\n",
       "      <th>3475</th>\n",
       "      <td>83</td>\n",
       "      <td>2</td>\n",
       "      <td>True</td>\n",
       "      <td>True</td>\n",
       "      <td>True</td>\n",
       "      <td>Niavaran</td>\n",
       "      <td>6.800000e+09</td>\n",
       "      <td>226666.67</td>\n",
       "    </tr>\n",
       "    <tr>\n",
       "      <th>3476</th>\n",
       "      <td>75</td>\n",
       "      <td>2</td>\n",
       "      <td>False</td>\n",
       "      <td>False</td>\n",
       "      <td>False</td>\n",
       "      <td>Parand</td>\n",
       "      <td>3.650000e+08</td>\n",
       "      <td>12166.67</td>\n",
       "    </tr>\n",
       "    <tr>\n",
       "      <th>3477</th>\n",
       "      <td>105</td>\n",
       "      <td>2</td>\n",
       "      <td>True</td>\n",
       "      <td>True</td>\n",
       "      <td>True</td>\n",
       "      <td>Dorous</td>\n",
       "      <td>5.600000e+09</td>\n",
       "      <td>186666.67</td>\n",
       "    </tr>\n",
       "    <tr>\n",
       "      <th>3478</th>\n",
       "      <td>82</td>\n",
       "      <td>2</td>\n",
       "      <td>False</td>\n",
       "      <td>True</td>\n",
       "      <td>True</td>\n",
       "      <td>Parand</td>\n",
       "      <td>3.600000e+08</td>\n",
       "      <td>12000.00</td>\n",
       "    </tr>\n",
       "  </tbody>\n",
       "</table>\n",
       "<p>3479 rows × 8 columns</p>\n",
       "</div>"
      ],
      "text/plain": [
       "     Area  Room  Parking  Warehouse  Elevator             Address  \\\n",
       "0      63     1     True       True      True             Shahran   \n",
       "1      60     1     True       True      True             Shahran   \n",
       "2      79     2     True       True      True              Pardis   \n",
       "3      95     2     True       True      True       Shahrake Qods   \n",
       "4     123     2     True       True      True      Shahrake Gharb   \n",
       "...   ...   ...      ...        ...       ...                 ...   \n",
       "3474   86     2     True       True      True  Southern Janatabad   \n",
       "3475   83     2     True       True      True            Niavaran   \n",
       "3476   75     2    False      False     False              Parand   \n",
       "3477  105     2     True       True      True              Dorous   \n",
       "3478   82     2    False       True      True              Parand   \n",
       "\n",
       "             Price  Price(USD)  \n",
       "0     1.850000e+09    61666.67  \n",
       "1     1.850000e+09    61666.67  \n",
       "2     5.500000e+08    18333.33  \n",
       "3     9.025000e+08    30083.33  \n",
       "4     7.000000e+09   233333.33  \n",
       "...            ...         ...  \n",
       "3474  3.500000e+09   116666.67  \n",
       "3475  6.800000e+09   226666.67  \n",
       "3476  3.650000e+08    12166.67  \n",
       "3477  5.600000e+09   186666.67  \n",
       "3478  3.600000e+08    12000.00  \n",
       "\n",
       "[3479 rows x 8 columns]"
      ]
     },
     "execution_count": 13,
     "metadata": {},
     "output_type": "execute_result"
    }
   ],
   "source": [
    "data = pd.read_csv('housePrice.csv')\n",
    "data"
   ]
  },
  {
   "cell_type": "markdown",
   "metadata": {},
   "source": [
    "Произвести предобработку"
   ]
  },
  {
   "cell_type": "code",
   "execution_count": 14,
   "metadata": {},
   "outputs": [
    {
     "data": {
      "text/plain": [
       "0        63.0\n",
       "1        60.0\n",
       "2        79.0\n",
       "3        95.0\n",
       "4       123.0\n",
       "        ...  \n",
       "3474     86.0\n",
       "3475     83.0\n",
       "3476     75.0\n",
       "3477    105.0\n",
       "3478     82.0\n",
       "Name: Area, Length: 3479, dtype: float64"
      ]
     },
     "execution_count": 14,
     "metadata": {},
     "output_type": "execute_result"
    }
   ],
   "source": [
    "data['Area'] = pd.to_numeric(data['Area'], errors= 'coerce')\n",
    "data['Price(USD)'] = pd.to_numeric(data['Price(USD)'], errors= 'coerce')\n",
    "x = data['Area']\n",
    "y = data['Price(USD)']\n",
    "x"
   ]
  },
  {
   "cell_type": "markdown",
   "metadata": {},
   "source": [
    "Реализовать линейную регрессию вручную, без использования библиотеки. За основу взять два признака: “Area” и “Price(USD)”. 15.\tВывести угол наклона и y-перехват."
   ]
  },
  {
   "cell_type": "code",
   "execution_count": 15,
   "metadata": {},
   "outputs": [
    {
     "name": "stdout",
     "output_type": "stream",
     "text": [
      "Коэффициенты: наклон линии регрессии = 2815.677849982167, y-перехват = -122008.63512111109\n"
     ]
    }
   ],
   "source": [
    "n = np.size(x) # количество точек\n",
    "  \n",
    "m_x = np.mean(x)  # среднее значение векторов x и y\n",
    "m_y = np.mean(y)\n",
    "  \n",
    "SS_xy = np.sum(y*x) - n*m_y*m_x # вычисление перекрестного отклонения и отклонения около x\n",
    "SS_xx = np.sum(x*x) - n*m_x*m_x\n",
    "  \n",
    "b_1 = SS_xy / SS_xx # вычисление коэффов регрессии\n",
    "b_0 = m_y - b_1*m_x\n",
    "\n",
    "print(f'Коэффициенты: наклон линии регрессии = {b_1}, y-перехват = {b_0}')"
   ]
  },
  {
   "cell_type": "markdown",
   "metadata": {},
   "source": [
    "Визуализировать линию регрессии на диаграмме рассеяния. Изменить параметр плотности с помощью команды “alpha”. "
   ]
  },
  {
   "cell_type": "code",
   "execution_count": 16,
   "metadata": {},
   "outputs": [
    {
     "data": {
      "image/png": "[encoded data removed]",
      "text/plain": [
       "<Figure size 640x480 with 1 Axes>"
      ]
     },
     "metadata": {},
     "output_type": "display_data"
    }
   ],
   "source": [
    "plt.scatter(x, y, color='m', marker='o', s=30, alpha=0.5)\n",
    "y_pred = b_0 + b_1 * x  # пронозируемый вектор\n",
    "plt.plot(x, y_pred, color='g')\n",
    "\n",
    "plt.xlabel('x')\n",
    "plt.ylabel('y')\n",
    "plt.show()\n"
   ]
  }
 ],
 "metadata": {
  "kernelspec": {
   "display_name": "Python 3.10.5 64-bit",
   "language": "python",
   "name": "python3"
  },
  "language_info": {
   "codemirror_mode": {
    "name": "ipython",
    "version": 3
   },
   "file_extension": ".py",
   "mimetype": "text/x-python",
   "name": "python",
   "nbconvert_exporter": "python",
   "pygments_lexer": "ipython3",
   "version": "3.10.5"
  },
  "orig_nbformat": 4,
  "vscode": {
   "interpreter": {
    "hash": "fb4569285eef3a3450cb62085a5b1e0da4bce0af555edc33dcf29baf3acc1368"
   }
  }
 },
 "nbformat": 4,
 "nbformat_minor": 2
}
